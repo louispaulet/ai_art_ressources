{
  "cells": [
    {
      "cell_type": "markdown",
      "id": "ca96e86f-5c09-47a2-910b-ca2ea0de4848",
      "metadata": {
        "id": "ca96e86f-5c09-47a2-910b-ca2ea0de4848"
      },
      "source": [
        "# Prepare"
      ]
    },
    {
      "cell_type": "code",
      "source": [
        "from google.colab import drive\n",
        "drive.mount('/content/drive')"
      ],
      "metadata": {
        "id": "_tmPnFEUv32o"
      },
      "id": "_tmPnFEUv32o",
      "execution_count": null,
      "outputs": []
    },
    {
      "cell_type": "code",
      "execution_count": null,
      "id": "98317149-6ff1-4db7-b82c-bf027380bf95",
      "metadata": {
        "id": "98317149-6ff1-4db7-b82c-bf027380bf95"
      },
      "outputs": [],
      "source": [
        "!nvidia-smi"
      ]
    },
    {
      "cell_type": "code",
      "source": [
        "!pip install diffusers\n",
        "!pip install --upgrade transformers\n",
        "!pip install accelerate"
      ],
      "metadata": {
        "id": "9GSwC6WHvwfh"
      },
      "id": "9GSwC6WHvwfh",
      "execution_count": null,
      "outputs": []
    },
    {
      "cell_type": "code",
      "execution_count": null,
      "id": "9ea20f37-2305-4e6a-b6ee-bb7032011187",
      "metadata": {
        "id": "9ea20f37-2305-4e6a-b6ee-bb7032011187"
      },
      "outputs": [],
      "source": [
        "from diffusers import StableDiffusionUpscalePipeline, EulerDiscreteScheduler\n",
        "import torch\n",
        "from torch import autocast"
      ]
    },
    {
      "cell_type": "code",
      "execution_count": null,
      "id": "1ea28645-d06b-481d-89b1-9f495b81da5d",
      "metadata": {
        "id": "1ea28645-d06b-481d-89b1-9f495b81da5d"
      },
      "outputs": [],
      "source": [
        "# download model from here\n",
        "model_id = \"stabilityai/stable-diffusion-x4-upscaler\"\n",
        "\n",
        "# local model path\n",
        "model_id = '/content/drive/MyDrive/AI/sd_upscaling/model/stable-diffusion-v2-upscale-x4'\n",
        "\n",
        "# load model and scheduler\n",
        "pipeline = StableDiffusionUpscalePipeline.from_pretrained(model_id, revision=\"fp16\", torch_dtype=torch.float16)\n",
        "pipeline.enable_attention_slicing()\n",
        "pipeline = pipeline.to(\"cuda\")\n",
        "\n",
        "# pipeline.enable_attention_slicing()\n",
        "pipeline.device"
      ]
    },
    {
      "cell_type": "code",
      "execution_count": null,
      "id": "63d8e2ad-404c-4d17-ac1a-a18183db04d6",
      "metadata": {
        "id": "63d8e2ad-404c-4d17-ac1a-a18183db04d6"
      },
      "outputs": [],
      "source": [
        "# pipeline.save_pretrained('/content/drive/MyDrive/AI/sd_upscaling/model/stable-diffusion-v2-upscale-x4')"
      ]
    },
    {
      "cell_type": "code",
      "source": [
        "from tqdm import tqdm"
      ],
      "metadata": {
        "id": "ZimNJNxnU9t3"
      },
      "id": "ZimNJNxnU9t3",
      "execution_count": null,
      "outputs": []
    },
    {
      "cell_type": "markdown",
      "id": "dff0e1eb-f000-4a52-88dd-3cd7339bb15e",
      "metadata": {
        "id": "dff0e1eb-f000-4a52-88dd-3cd7339bb15e"
      },
      "source": [
        "# Run (changed the loops to go into subfolders)"
      ]
    },
    {
      "cell_type": "code",
      "source": [
        "input_images_path = \"/content/drive/MyDrive/AI/sd_upscaling/input/palazzos/\""
      ],
      "metadata": {
        "id": "2UEPBH0VxF7x"
      },
      "id": "2UEPBH0VxF7x",
      "execution_count": null,
      "outputs": []
    },
    {
      "cell_type": "code",
      "source": [
        "from glob import glob\n",
        "\n",
        "filename_list = sorted(glob(input_images_path+\"*\", recursive = True))\n",
        "filename_list"
      ],
      "metadata": {
        "id": "Mm8zsYuGxLHc"
      },
      "id": "Mm8zsYuGxLHc",
      "execution_count": null,
      "outputs": []
    },
    {
      "cell_type": "code",
      "source": [
        "# example of prompt list (in the order of filename list)\n",
        "prompt_list = [\n",
        "    \"masterwork oil on canvas painting of an italian palazzo by filippo brunelleschi\",\n",
        "    \"masterwork oil on canvas painting of an italian palazzo by george barbier\"\n",
        "]"
      ],
      "metadata": {
        "id": "dGSxYlSSX5SD"
      },
      "id": "dGSxYlSSX5SD",
      "execution_count": null,
      "outputs": []
    },
    {
      "cell_type": "code",
      "execution_count": null,
      "id": "683cf42b-b65b-4c7e-9cb2-7bb5ac62d225",
      "metadata": {
        "id": "683cf42b-b65b-4c7e-9cb2-7bb5ac62d225"
      },
      "outputs": [],
      "source": [
        "from PIL import Image\n",
        "\n",
        "def upscale(prompt, filename_list, save_to_jpg):\n",
        "\n",
        "  prompt = \"watercolor portrait of emmanuel macron by Helen Allingham\"\n",
        "\n",
        "  for filename in tqdm(filename_list):\n",
        "    curr_img = Image.open(filename).convert(\"RGB\").resize((256,256))\n",
        "    # with autocast(\"cuda\"):\n",
        "    upscaled_image = pipeline(prompt=prompt, image=curr_img).images[0]\n",
        "    curr_filename = filename.split('/')[-1]\n",
        "    \n",
        "    # display(upscaled_image)\n",
        "    if save_to_jpg:\n",
        "      curr_filename = curr_filename.replace('.png', '.jpg')\n",
        "    upscaled_image.save(\"/content/drive/MyDrive/AI/sd_upscaling/output/\"+curr_filename)"
      ]
    },
    {
      "cell_type": "code",
      "source": [
        "for index, curr_folder in enumerate(tqdm(filename_list)):\n",
        "  \n",
        "  curr_prompt = prompt_list[index]\n",
        "  curr_filename_list = sorted(glob(curr_folder+\"/*\", recursive = True))\n",
        "  # print(curr_prompt)\n",
        "  # print(curr_filename_list)\n",
        "  \n",
        "  upscale(prompt = curr_prompt, filename_list = curr_filename_list, save_to_jpg = True)\n",
        "  "
      ],
      "metadata": {
        "id": "Q0mlbRn5Ezko"
      },
      "id": "Q0mlbRn5Ezko",
      "execution_count": null,
      "outputs": []
    },
    {
      "cell_type": "code",
      "source": [],
      "metadata": {
        "id": "x2x5W8VgY5mY"
      },
      "id": "x2x5W8VgY5mY",
      "execution_count": null,
      "outputs": []
    }
  ],
  "metadata": {
    "kernelspec": {
      "display_name": "Python 3 (ipykernel)",
      "language": "python",
      "name": "python3"
    },
    "language_info": {
      "codemirror_mode": {
        "name": "ipython",
        "version": 3
      },
      "file_extension": ".py",
      "mimetype": "text/x-python",
      "name": "python",
      "nbconvert_exporter": "python",
      "pygments_lexer": "ipython3",
      "version": "3.10.8"
    },
    "colab": {
      "private_outputs": true,
      "provenance": [],
      "machine_shape": "hm"
    },
    "accelerator": "GPU",
    "gpuClass": "premium"
  },
  "nbformat": 4,
  "nbformat_minor": 5
}