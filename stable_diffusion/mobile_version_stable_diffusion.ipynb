{
  "cells": [
    {
      "cell_type": "markdown",
      "metadata": {
        "id": "qNxgip3V1xYb"
      },
      "source": [
        "# Mobile Version - Latent Diffusion with HuggingFace Diffusers \n",
        "\n",
        "NSWF filter Off to remove censorship on greek statues"
      ]
    },
    {
      "cell_type": "markdown",
      "metadata": {
        "id": "WwETqTLLLaeN"
      },
      "source": [
        "# GPU Check"
      ]
    },
    {
      "cell_type": "code",
      "execution_count": null,
      "metadata": {
        "id": "zHkHsdtnry57"
      },
      "outputs": [],
      "source": [
        "!nvidia-smi"
      ]
    },
    {
      "cell_type": "markdown",
      "metadata": {
        "id": "QYOlvQ1nQL7c"
      },
      "source": [
        "# Setup"
      ]
    },
    {
      "cell_type": "markdown",
      "metadata": {
        "id": "paJt_cx5QgVz"
      },
      "source": [
        "Next, you should install `diffusers==0.2.4` as well `scipy`, `ftfy` and `transformers`."
      ]
    },
    {
      "cell_type": "code",
      "execution_count": null,
      "metadata": {
        "id": "aIrgth7sqFML"
      },
      "outputs": [],
      "source": [
        "!pip install diffusers==0.2.4\n",
        "!pip install transformers scipy ftfy\n",
        "!pip install \"ipywidgets>=7,<8\""
      ]
    },
    {
      "cell_type": "markdown",
      "metadata": {
        "id": "1Fcyyt0daU4e"
      },
      "source": [
        "You also need to accept the model license before downloading or using the weights. In this post we'll use model version `v1-4`, so you'll need to  visit [its card](https://huggingface.co/CompVis/stable-diffusion-v1-4), read the license and tick the checkbox if you agree. \n",
        "\n",
        "You have to be a registered user in 🤗 Hugging Face Hub, and you'll also need to use an access token for the code to work. For more information on access tokens, please refer to [this section of the documentation](https://huggingface.co/docs/hub/security-tokens)."
      ]
    },
    {
      "cell_type": "markdown",
      "metadata": {
        "id": "ou0Ijygormum"
      },
      "source": [
        "As google colab has disabled external widgtes, we need to enable it explicitly. Run the following cell to be able to use `notebook_login`"
      ]
    },
    {
      "cell_type": "code",
      "execution_count": null,
      "metadata": {
        "id": "OtrOo8YPoM2b"
      },
      "outputs": [],
      "source": [
        "from google.colab import output\n",
        "output.enable_custom_widget_manager()"
      ]
    },
    {
      "cell_type": "markdown",
      "metadata": {
        "id": "rEurq-jMCA0Q"
      },
      "source": [
        "## Import Libs"
      ]
    },
    {
      "cell_type": "code",
      "execution_count": null,
      "metadata": {
        "id": "GzaD4GBFB5im"
      },
      "outputs": [],
      "source": [
        "import torch\n",
        "from torch import autocast\n",
        "from PIL import Image\n",
        "from diffusers import StableDiffusionPipeline\n",
        "from tqdm.autonotebook import tqdm"
      ]
    },
    {
      "cell_type": "markdown",
      "metadata": {
        "id": "BHiV7acka4EY"
      },
      "source": [
        "## Token Login\n",
        "Now you can login with your user token."
      ]
    },
    {
      "cell_type": "code",
      "execution_count": null,
      "metadata": {
        "id": "8TRAh8G6sNfA"
      },
      "outputs": [],
      "source": [
        "from huggingface_hub import notebook_login\n",
        "\n",
        "notebook_login()"
      ]
    },
    {
      "cell_type": "markdown",
      "metadata": {
        "id": "3NnPOMAqAABv"
      },
      "source": [
        "## Stable Diffusion Pipeline\n",
        "\n",
        "`StableDiffusionPipeline` is an end-to-end inference pipeline that you can use to generate images from text with just a few lines of code.\n",
        "\n",
        "First, we load the pre-trained weights of all components of the model.\n",
        "\n",
        "In addition to the model id [CompVis/stable-diffusion-v1-4](https://huggingface.co/CompVis/stable-diffusion-v1-4), we're also passing a specific `revision`, `torch_dtype` and `use_auth_token` to the `from_pretrained` method.\n",
        "`use_auth_token` is necessary to verify that you have indeed accepted the model's license.\n",
        "\n",
        "We want to ensure that every free Google Colab can run Stable Diffusion, hence we're loading the weights from the half-precision branch [`fp16`](https://huggingface.co/CompVis/stable-diffusion-v1-4/tree/fp16) and also tell `diffusers` to expect the weights in float16 precision by passing `torch_dtype=torch.float16`.\n",
        "\n",
        "If you want to ensure the highest possible precision, please make sure to remove `revision=\"fp16\"` and `torch_dtype=torch.float16` at the cost of a higher memory usage."
      ]
    },
    {
      "cell_type": "code",
      "execution_count": null,
      "metadata": {
        "id": "xSKWBKFPArKS"
      },
      "outputs": [],
      "source": [
        "# make sure you're logged in with `huggingface-cli login`\n",
        "pipe = StableDiffusionPipeline.from_pretrained(\"CompVis/stable-diffusion-v1-4\", revision=\"fp16\", torch_dtype=torch.float16, use_auth_token=True)"
      ]
    },
    {
      "cell_type": "markdown",
      "metadata": {
        "id": "8MgNzTxwbASv"
      },
      "source": [
        "Next, let's move the pipeline to GPU to have faster inference."
      ]
    },
    {
      "cell_type": "code",
      "execution_count": null,
      "metadata": {
        "id": "LA9myHTxbDhm"
      },
      "outputs": [],
      "source": [
        "pipe = pipe.to(\"cuda\")\n",
        "pipe.safety_checker = (lambda images, clip_input: (images, False))"
      ]
    },
    {
      "cell_type": "markdown",
      "metadata": {
        "id": "vxxNE7gw1-9D"
      },
      "source": [
        "### code examples (all commented)"
      ]
    },
    {
      "cell_type": "markdown",
      "metadata": {
        "id": "3NXFFfjsS-zj"
      },
      "source": [
        "Using `autocast` will run inference faster because it uses half-precision."
      ]
    },
    {
      "cell_type": "code",
      "execution_count": null,
      "metadata": {
        "id": "yEErJFjlrSWS"
      },
      "outputs": [],
      "source": [
        "# from torch import autocast\n",
        "\n",
        "# prompt = \"a photograph of an astronaut riding a horse\"\n",
        "# with autocast(\"cuda\"):\n",
        "#   image = pipe(prompt)[\"sample\"][0]  # image here is in [PIL format](https://pillow.readthedocs.io/en/stable/)\n",
        "\n",
        "# # Now to display an image you can do either save it such as:\n",
        "# image.save(f\"astronaut_rides_horse.png\")\n",
        "\n",
        "# # or if you're in a google colab you can directly display it with \n",
        "# image"
      ]
    },
    {
      "cell_type": "markdown",
      "metadata": {
        "id": "NfZCwCecVJI3"
      },
      "source": [
        "Running the above cell multiple times will give you a different image every time. If you want deterministic output you can pass a random seed to the pipeline. Every time you use the same seed you'll have the same image result."
      ]
    },
    {
      "cell_type": "code",
      "execution_count": null,
      "metadata": {
        "id": "WaAW4sSdV7vZ"
      },
      "outputs": [],
      "source": [
        "# import torch\n",
        "\n",
        "# generator = torch.Generator(\"cuda\").manual_seed(1024)\n",
        "\n",
        "# with autocast(\"cuda\"):\n",
        "#   image = pipe(prompt, generator=generator)[\"sample\"][0]\n",
        "\n",
        "# image"
      ]
    },
    {
      "cell_type": "markdown",
      "metadata": {
        "id": "_RrbYQVQXK6I"
      },
      "source": [
        "You can change the number of inference steps using the `num_inference_steps` argument. In general, results are better the more steps you use. Stable Diffusion, being one of the latest models, works great with a relatively small number of steps, so we recommend to use the default of `50`. If you want faster results you can use a smaller number.\n",
        "\n",
        "The following cell uses the same seed as before, but with fewer steps. Note how some details, such as the horse's head or the helmet, are less defin realistic and less defined than in the previous image:"
      ]
    },
    {
      "cell_type": "code",
      "execution_count": null,
      "metadata": {
        "id": "BKiK67iTXQkt"
      },
      "outputs": [],
      "source": [
        "# import torch\n",
        "\n",
        "# generator = torch.Generator(\"cuda\").manual_seed(1024)\n",
        "\n",
        "# with autocast(\"cuda\"):\n",
        "#   image = pipe(prompt, num_inference_steps=15, generator=generator)[\"sample\"][0]\n",
        "\n",
        "# image"
      ]
    },
    {
      "cell_type": "markdown",
      "metadata": {
        "id": "Y8wxFjba5zRc"
      },
      "source": [
        "The other parameter in the pipeline call is `guidance_scale`. It is a way to increase the adherence to the conditional signal which in this case is text as well as overall sample quality. In simple terms classifier free guidance forces the generation to better match with the prompt. Numbers like `7` or `8.5` give good results, if you use a very large number the images might look good, but will be less diverse. \n",
        "\n",
        "You can learn about the technical details of this parameter in [the last section](https://colab.research.google.com/drive/1ALXuCM5iNnJDNW5vqBm5lCtUQtZJHN2f?authuser=1#scrollTo=UZp-ynZLrS-S) of this notebook."
      ]
    },
    {
      "cell_type": "markdown",
      "metadata": {
        "id": "bUbR3IszB1CD"
      },
      "source": [
        "To generate multiple images for the same prompt, we simply use a list with the same prompt repeated several times. We'll send the list to the pipeline instead of the string we used before."
      ]
    },
    {
      "cell_type": "markdown",
      "metadata": {
        "id": "6ZcgsflpBoEM"
      },
      "source": [
        "\n",
        "\n",
        "Let's first write a helper function to display a grid of images. Just run the following cell to create the `image_grid` function, or disclose the code if you are interested in how it's done."
      ]
    },
    {
      "cell_type": "code",
      "execution_count": null,
      "metadata": {
        "id": "REF_yuHprSa1"
      },
      "outputs": [],
      "source": [
        "# def image_grid(imgs, rows, cols):\n",
        "#     assert len(imgs) == rows*cols\n",
        "\n",
        "#     w, h = imgs[0].size\n",
        "#     grid = Image.new('RGB', size=(cols*w, rows*h))\n",
        "#     grid_w, grid_h = grid.size\n",
        "    \n",
        "#     for i, img in enumerate(imgs):\n",
        "#         grid.paste(img, box=(i%cols*w, i//cols*h))\n",
        "#     return grid"
      ]
    },
    {
      "cell_type": "markdown",
      "metadata": {
        "id": "AcHccTDWbQRU"
      },
      "source": [
        "Now, we can generate a grid image once having run the pipeline with a list of 3 prompts."
      ]
    },
    {
      "cell_type": "code",
      "execution_count": null,
      "metadata": {
        "id": "-YAFLvWWrSdM"
      },
      "outputs": [],
      "source": [
        "# num_images = 3\n",
        "# prompt = [\"a photograph of an astronaut riding a horse\"] * num_images\n",
        "\n",
        "# with autocast(\"cuda\"):\n",
        "#   images = pipe(prompt)[\"sample\"]\n",
        "\n",
        "# grid = image_grid(images, rows=1, cols=3)\n",
        "# grid"
      ]
    },
    {
      "cell_type": "markdown",
      "metadata": {
        "id": "Zj-3lCCWYtMn"
      },
      "source": [
        "And here's how to generate a grid of `n × m` images."
      ]
    },
    {
      "cell_type": "markdown",
      "metadata": {
        "id": "uhIiVrFU2X9f"
      },
      "source": [
        "# Define PATH variables (& Gdrive save auth)"
      ]
    },
    {
      "cell_type": "code",
      "execution_count": null,
      "metadata": {
        "id": "Ln90MQem7P3s"
      },
      "outputs": [],
      "source": [
        "stable_diffusion_path  = '/content/drive/MyDrive/AI/stable_diffusion/stable_diffusion_output/'"
      ]
    },
    {
      "cell_type": "code",
      "execution_count": null,
      "metadata": {
        "id": "wuB_rqOb7Qgg"
      },
      "outputs": [],
      "source": [
        "from google.colab import drive\n",
        "drive.mount('/content/drive')"
      ]
    },
    {
      "cell_type": "markdown",
      "metadata": {
        "id": "BYeOnIDkLQrI"
      },
      "source": [
        "# Define functions"
      ]
    },
    {
      "cell_type": "code",
      "execution_count": null,
      "metadata": {
        "id": "Ylscg48YYxfF"
      },
      "outputs": [],
      "source": [
        "def image_grid(imgs, rows, cols):\n",
        "    assert len(imgs) == rows*cols\n",
        "\n",
        "    w, h = imgs[0].size\n",
        "    grid = Image.new('RGB', size=(cols*w, rows*h))\n",
        "    grid_w, grid_h = grid.size\n",
        "    \n",
        "    for i, img in enumerate(imgs):\n",
        "        grid.paste(img, box=(i%cols*w, i//cols*h))\n",
        "    return grid\n",
        "\n",
        "def generate_image_grid(prompt, iteration_steps, num_cols, num_rows):\n",
        "  prompt *= num_cols\n",
        "\n",
        "  all_images = []\n",
        "  print('generating...')\n",
        "  for i in tqdm(range(num_rows)):\n",
        "    with autocast(\"cuda\"):\n",
        "      images = pipe(prompt, num_inference_steps=iteration_steps)[\"sample\"]\n",
        "    all_images.extend(images)\n",
        "\n",
        "\n",
        "  grid = image_grid(all_images, rows=num_rows, cols=num_cols)\n",
        "\n",
        "  # save section (images + grid)\n",
        "  print('saving...')\n",
        "  for cpt, image in enumerate(tqdm(all_images)):\n",
        "    image.save(stable_diffusion_path+prompt[0]+'_img_'+str(cpt)+'.png')\n",
        "  grid.save(stable_diffusion_path+prompt[0]+'_grid.png')\n",
        "  return grid\n",
        "\n",
        "# feature test\n",
        "# generate_image_grid([\"a photograph of an astronaut riding a horse\"], 50, 1, 1)"
      ]
    },
    {
      "cell_type": "markdown",
      "metadata": {
        "id": "uCsxNQpqLU0Q"
      },
      "source": [
        "# Run prompts"
      ]
    },
    {
      "cell_type": "markdown",
      "metadata": {
        "id": "3giQlYXW7ZSM"
      },
      "source": [
        "### previous prompts"
      ]
    },
    {
      "cell_type": "code",
      "execution_count": null,
      "metadata": {
        "id": "mzcx0Cv-7Vjk"
      },
      "outputs": [],
      "source": [
        "  # [\"painting in the style of Salvador Dali expressing the explosion of the senses when art is introduced\"],\n",
        "  # [\"painting of the highest mountains in the style of Caspar David Friedrich\"],\n",
        "  # [\"painting of a gothic cathedral built on a giant waterfall\"]\n",
        "  # ['Exploding Raphaelesque Head, Dali painting from 1951']\n",
        "  # ['painting of a multitude of 3d shapes forming a human face in the style of Salvador Dali']\n",
        "  # ['spatial composition of 3d shapes giving the illusion of a human head, painting by Salvador Dali'],\n",
        "  # ['geometric composition of 3d shapes giving the illusion of a human head, painting by Salvador Dali'],\n",
        "  # ['geometric spatial 3d shapes giving the illusion of a human head, painting by Salvador Dali'],\n",
        "  # ['geometric volumetric composition of 3d shapes giving the illusion of a human head, painting by Salvador Dali'],\n",
        "  # ['volumetric spatial composition of 3d shapes giving the illusion of a human head, painting by Salvador Dali'],\n",
        "  # ['geometric spatial and volumetric shapes giving the illusion of a human head, painting by Salvador Dali'],\n",
        "  # ['volumetric 3d shapes giving the illusion of a human head, painting by Salvador Dali']\n",
        "  # ['3d spheres floating in space giving the illusion of a human head, painting by Salvador Dali'],\n",
        "  # ['3d spheres floating in space giving an illusion of a human head, painting by Salvador Dali'],\n",
        "  # ['3d spheres floating in space arranged to look like a human head, painting by Salvador Dali'],\n",
        "  # ['3d spheres floating in space forming a human head, painting by Salvador Dali'],\n",
        "  # ['3d spheres floating in space forming a face, painting by Salvador Dali'],\n",
        "  # ['3d spheres floating in space forming a smiling face, painting by Salvador Dali']\n",
        "  # ['painting of a castle in the Gothic Revival architecture style, trending on Artstation'],\n",
        "  # ['painting of a giant submarine surfacing the rough sea, by greg rutkowski and thomas kinkade, trending on Artstation']\n",
        "  # ['painting of an important woman, by Leonardo da Vinci, trending on Artstation'],\n",
        "  # ['painting of a business woman, by Leonardo da Vinci, trending on Artstation'],\n",
        "  # ['painting of a group of business women, by Leonardo da Vinci, trending on Artstation'],\n",
        "  # ['realistic oil on canvas of a female emperor on a throne, trending on Artstation'],\n",
        "  # ['render of walle, featured on zbrushcentral'],\n",
        "  # ['render of pixar walle, featured on zbrushcentral'],\n",
        "  # ['render of pixar walle robot, featured on zbrushcentral'],\n",
        "  # ['render of wall-e robot from the pixar movie, featured on zbrushcentral'],\n",
        "  # ['render of pixar wall-e robot, featured on zbrushcentral'],\n",
        "  # ['render of venus de milo statue with tentacle instead of arms, featured on zbrushcentral'],\n",
        "  # ['render of venus de milo statue with octopus tentacles, featured on zbrushcentral'],\n",
        "  # ['render of venus de milo statue with octopus tentacles instead of arms, featured on zbrushcentral'],\n",
        "  # ['complete medieval style alphabet'],\n",
        "  # ['complete medieval alphabet'],\n",
        "  # ['medieval alphabet'],\n",
        "  # ['complete alphabet'],\n",
        "  # ['complete alphabet in illumination style'],\n",
        "  # ['complete alphabet in mediavel illumination style']\n",
        "  # ['painting of a medieval relic of a human skull with gold jewelry and large precious stones'],\n",
        "\n",
        "\n",
        "  # ['painting of the relic skull of a saint covered in medieval jewelry']\n",
        "  # ['mural of the skull relic of a saint covered in gold mesh set with gemstones and crowned with fractal gilded crown']\n",
        "  \n",
        "  \n",
        "  # ['painting of a medieval skull with gold jewelry and large precious stones'],\n",
        "  # ['painting of a relic of a human skull with medieval jewelry and large precious stones'],\n",
        "  # ['painting of a medieval relic of a human skull with gold jewelry']\n",
        "\n",
        "  # [\"render asian zen modern design of a tropical villa garden and pool\"]\n",
        "  # ['picture of a luxury mahogany master bedroom ceiling beams']\n",
        "  # ['picture of a German Rococo grandiose staircase in the center, the ceiling is covered in a fresco by a Venetian artist, large royal palace windows, black and white marble flooring']\n",
        "\n",
        "  # [\"Los Angeles skyline at sunset. Detailed ink wash.\"],\n",
        "  # [\"Donald Trump dressed as willy wonka in the style of Quentin Blake illustrations from Roald Dahl books\"],"
      ]
    },
    {
      "cell_type": "markdown",
      "metadata": {
        "id": "DZ__cR-NrtqN"
      },
      "source": [
        "## option: archive old pictures"
      ]
    },
    {
      "cell_type": "code",
      "execution_count": null,
      "metadata": {
        "id": "IPdZRzIyrtLR"
      },
      "outputs": [],
      "source": [
        "!mkdir /content/drive/MyDrive/AI/stable_diffusion/$(date +%Y%m%d_%H%M%S) && mv /content/drive/MyDrive/AI/stable_diffusion/stable_diffusion_output/*.png /content/drive/MyDrive/AI/stable_diffusion/$(date +%Y%m%d_%H%M%S)"
      ]
    },
    {
      "cell_type": "markdown",
      "metadata": {
        "id": "zUYhDLUG1NMJ"
      },
      "source": [
        "## run the actual generation"
      ]
    },
    {
      "cell_type": "code",
      "execution_count": null,
      "metadata": {
        "id": "aT06MJoDAncY"
      },
      "outputs": [],
      "source": [
        "prompt_master_list = [\n",
        "  # [\"ornate gilded wood frame in the baroque style with gemstones in the frames, photo from Christies catalog\"]\n",
        "  # ['Neo-Baroque frame of a 19th-century painting'],\n",
        "  # ['a painting by Hubert Robert in a gilded baroque frame on the wall of a museum'],\n",
        "  # ['a painting by Edouard Manet in a gilded baroque frame on the wall of a museum'],\n",
        "  # ['a painting by Thomas Cole in a gilded baroque frame on the wall of a museum'],\n",
        "  # ['a painting by Van Gogh in a gilded baroque frame on the wall of a museum'],\n",
        "  # ['Argent, an eagle displayed gules armed and wings charged with trefoils Or. Arms of Brandenburg.']\n",
        "  # ['Gules illuminations, a Griffin with dragon wings tail and tongue rampant, codex page scan'],\n",
        "  # ['blazon descrption Azure, a Bend Or'],\n",
        "  #['very detailed painting of a complex and intricate medieval city inside of a giant tree, by Thomas Cole']\n",
        "  #['retro travel poster showing the lushious green shire from the lord of the rings in the background and a hobbit house in the foreground, artdeco style poster']\n",
        " ['baroque square frame, gilded wood, ornate engravings, embossed gemstones, hd picture']\n",
        "]"
      ]
    },
    {
      "cell_type": "code",
      "execution_count": null,
      "metadata": {
        "colab": {
          "background_save": true
        },
        "id": "667N5c795bl6"
      },
      "outputs": [],
      "source": [
        "for current_prompt in prompt_master_list:\n",
        "  grid = generate_image_grid(current_prompt, 50,4,5)\n",
        "  display(grid)"
      ]
    },
    {
      "cell_type": "markdown",
      "metadata": {
        "id": "FNmkEXH0BcOk"
      },
      "source": [
        "# post run"
      ]
    }
  ],
  "metadata": {
    "accelerator": "GPU",
    "colab": {
      "collapsed_sections": [],
      "private_outputs": true,
      "provenance": [],
      "machine_shape": "hm"
    },
    "gpuClass": "standard",
    "kernelspec": {
      "display_name": "Python 3",
      "name": "python3"
    },
    "language_info": {
      "name": "python"
    }
  },
  "nbformat": 4,
  "nbformat_minor": 0
}