{
  "nbformat": 4,
  "nbformat_minor": 0,
  "metadata": {
    "colab": {
      "provenance": []
    },
    "kernelspec": {
      "name": "python3",
      "display_name": "Python 3"
    },
    "language_info": {
      "name": "python"
    }
  },
  "cells": [
    {
      "cell_type": "markdown",
      "source": [
        "# 🎵 WAV File Concatenation 🎵\n",
        "\n",
        "This Google Colab notebook is designed to help you effortlessly concatenate multiple WAV audio files \n",
        "into a single output file. Perfect for merging audio clips, this notebook will guide you through the \n",
        "entire process, from installing the necessary libraries to exporting the final concatenated audio file. 🎶\n",
        "\n",
        "## Follow the steps below and enjoy your new, seamless audio experience! 🎧\n",
        "\n",
        "Original file is located at:\n",
        "    https://colab.research.google.com/drive/1F7jD1cVaB-q0WLtyMq8O8XoxUWUKt2bU\n",
        "\n",
        "🚀 Let's get started! 🚀\n"
      ],
      "metadata": {
        "id": "8epebCo6oirf"
      }
    },
    {
      "cell_type": "markdown",
      "source": [
        "# install pydub"
      ],
      "metadata": {
        "id": "t1_h8v1viu8c"
      }
    },
    {
      "cell_type": "code",
      "source": [
        "!pip install pydub"
      ],
      "metadata": {
        "colab": {
          "base_uri": "https://localhost:8080/"
        },
        "id": "y109Q--3hTSf",
        "outputId": "759a9f1a-c9d5-41bd-b98c-1f3489221ba7"
      },
      "execution_count": 12,
      "outputs": [
        {
          "output_type": "stream",
          "name": "stdout",
          "text": [
            "Looking in indexes: https://pypi.org/simple, https://us-python.pkg.dev/colab-wheels/public/simple/\n",
            "Collecting pydub\n",
            "  Downloading pydub-0.25.1-py2.py3-none-any.whl (32 kB)\n",
            "Installing collected packages: pydub\n",
            "Successfully installed pydub-0.25.1\n"
          ]
        }
      ]
    },
    {
      "cell_type": "markdown",
      "source": [
        "# Set input/output folder paths here\n",
        "\n",
        "These paths are setup to my Gdrive default paths, set them to anything else"
      ],
      "metadata": {
        "id": "Zi3vM8dKioYt"
      }
    },
    {
      "cell_type": "code",
      "source": [
        "path_to_wav = \"/content/drive/MyDrive/AI/SOUND/tortoise_batch_1\""
      ],
      "metadata": {
        "id": "S8gnxyUff5fn"
      },
      "execution_count": 3,
      "outputs": []
    },
    {
      "cell_type": "code",
      "source": [
        "output_path = \"/content/drive/MyDrive/AI/SOUND/concat_wav\""
      ],
      "metadata": {
        "id": "O9ZFugMEhWXw"
      },
      "execution_count": 15,
      "outputs": []
    },
    {
      "cell_type": "markdown",
      "source": [
        "# load filenames"
      ],
      "metadata": {
        "id": "fTYvgqxHi8hx"
      }
    },
    {
      "cell_type": "code",
      "source": [
        "import glob\n",
        "\n",
        "# List all files with the extension .txt in the current directory\n",
        "wav_files = glob.glob(path_to_wav+\"/*.wav\")\n",
        "print(wav_files)"
      ],
      "metadata": {
        "colab": {
          "base_uri": "https://localhost:8080/"
        },
        "id": "uYZFFS6jf0Q3",
        "outputId": "2c47de14-c840-4c38-fb5b-1c7abdde992d"
      },
      "execution_count": 5,
      "outputs": [
        {
          "output_type": "stream",
          "name": "stdout",
          "text": [
            "['/content/drive/MyDrive/AI/SOUND/tortoise_batch_1/speech_track_0.wav', '/content/drive/MyDrive/AI/SOUND/tortoise_batch_1/speech_track_1.wav', '/content/drive/MyDrive/AI/SOUND/tortoise_batch_1/speech_track_2.wav', '/content/drive/MyDrive/AI/SOUND/tortoise_batch_1/speech_track_3.wav', '/content/drive/MyDrive/AI/SOUND/tortoise_batch_1/speech_track_4.wav', '/content/drive/MyDrive/AI/SOUND/tortoise_batch_1/speech_track_5.wav', '/content/drive/MyDrive/AI/SOUND/tortoise_batch_1/speech_track_6.wav', '/content/drive/MyDrive/AI/SOUND/tortoise_batch_1/speech_track_7.wav', '/content/drive/MyDrive/AI/SOUND/tortoise_batch_1/speech_track_8.wav', '/content/drive/MyDrive/AI/SOUND/tortoise_batch_1/speech_track_9.wav']\n"
          ]
        }
      ]
    },
    {
      "cell_type": "markdown",
      "source": [
        "# concatenate wav files into a single `concat_sound.wav` file"
      ],
      "metadata": {
        "id": "pxPAOzfDiyIP"
      }
    },
    {
      "cell_type": "code",
      "source": [
        "from pydub import AudioSegment\n",
        "\n",
        "combined_sounds = AudioSegment.from_wav(wav_files[0])\n",
        "for wav_file in wav_files[1:]:\n",
        "  combined_sounds = combined_sounds + AudioSegment.from_wav(wav_file)\n",
        "\n",
        "combined_sounds.export(output_path+\"/concat_sound.wav\", format=\"wav\")"
      ],
      "metadata": {
        "colab": {
          "base_uri": "https://localhost:8080/"
        },
        "id": "ahYi9PZXguN_",
        "outputId": "e974a0a3-8183-426e-eb0e-32948d0270d7"
      },
      "execution_count": 16,
      "outputs": [
        {
          "output_type": "execute_result",
          "data": {
            "text/plain": [
              "<_io.BufferedRandom name='/content/drive/MyDrive/AI/SOUND/concat_wav/concat_sound.wav'>"
            ]
          },
          "metadata": {},
          "execution_count": 16
        }
      ]
    }
  ]
}