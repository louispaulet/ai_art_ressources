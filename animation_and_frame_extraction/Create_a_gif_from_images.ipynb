{
  "nbformat": 4,
  "nbformat_minor": 0,
  "metadata": {
    "colab": {
      "provenance": [],
      "collapsed_sections": []
    },
    "kernelspec": {
      "name": "python3",
      "display_name": "Python 3"
    },
    "language_info": {
      "name": "python"
    }
  },
  "cells": [
    {
      "cell_type": "markdown",
      "source": [
        "# Install\n",
        "\n",
        "Run once to install libs"
      ],
      "metadata": {
        "id": "5D4h7enBrPE4"
      }
    },
    {
      "cell_type": "code",
      "source": [
        "!pip install pygifsicle\n",
        "!sudo apt-get install gifsicle"
      ],
      "metadata": {
        "id": "I1YREvgvqSJd"
      },
      "execution_count": null,
      "outputs": []
    },
    {
      "cell_type": "code",
      "source": [
        "import os\n",
        "import imageio\n",
        "from PIL import Image\n",
        "from pygifsicle import optimize\n",
        "from tqdm.notebook import tqdm\n",
        "from skimage.transform import resize"
      ],
      "metadata": {
        "id": "fcqxJyDxlbZB"
      },
      "execution_count": null,
      "outputs": []
    },
    {
      "cell_type": "markdown",
      "source": [
        "Deactivate Warnings "
      ],
      "metadata": {
        "id": "s2LRfMuSwS66"
      }
    },
    {
      "cell_type": "code",
      "source": [
        "import warnings\n",
        "warnings.filterwarnings('ignore')"
      ],
      "metadata": {
        "id": "GC9msx0cvyDQ"
      },
      "execution_count": null,
      "outputs": []
    },
    {
      "cell_type": "markdown",
      "source": [
        "# Move files to input folder"
      ],
      "metadata": {
        "id": "9MWQFW6T2pmj"
      }
    },
    {
      "cell_type": "code",
      "source": [
        "!rm /content/drive/MyDrive/AI/image_to_gif/input/*"
      ],
      "metadata": {
        "id": "jnIn6-X02zHL"
      },
      "execution_count": null,
      "outputs": []
    },
    {
      "cell_type": "code",
      "source": [
        "# !cp /content/drive/MyDrive/AI/face_restore/olds/tree_experiement/* /content/drive/MyDrive/AI/image_to_gif/input"
      ],
      "metadata": {
        "id": "7jhw-M8y2pH4"
      },
      "execution_count": null,
      "outputs": []
    },
    {
      "cell_type": "markdown",
      "source": [
        "# Define function and parameters\n",
        "WARNING: parameters inside !"
      ],
      "metadata": {
        "id": "pWqcfCvays7L"
      }
    },
    {
      "cell_type": "code",
      "source": [
        "def create_gif(gif_name, version_name, duration):\n",
        "\n",
        "  png_dir = '/content/drive/MyDrive/AI/image_to_gif/input/'\n",
        "  images_list = []\n",
        "\n",
        "  # filetype = '.jpg'\n",
        "  filetype = '.png'\n",
        "\n",
        "  # width_img = 2304 / 2\n",
        "  # height_img = 1536 / 2\n",
        "\n",
        "  # height_img = 2304 / 2\n",
        "  # width_img = 1536 / 2\n",
        "\n",
        "  # width_img = 3072 / 2\n",
        "  # height_img = 2048 / 2\n",
        "\n",
        "  width_img = 768\n",
        "  height_img = 512\n",
        "\n",
        "  for file_name in tqdm(sorted(os.listdir(png_dir))):\n",
        "      if file_name.endswith(filetype):\n",
        "          file_path = os.path.join(png_dir, file_name)\n",
        "\n",
        "          current_image = imageio.imread(file_path)\n",
        "          current_image = resize(current_image, (height_img, width_img))\n",
        "\n",
        "          images_list.append(current_image)\n",
        "\n",
        "# ------------------------------------------------------------------------------------\n",
        "# Activate the block below to reverse the frames in the second half of the gif\n",
        "# This will create a back-and-forth motion and make the GIF infinite\n",
        "\n",
        "  # for file_name in tqdm(sorted(os.listdir(png_dir), reverse=True)):\n",
        "  #     if file_name.endswith(filetype):\n",
        "  #         file_path = os.path.join(png_dir, file_name)\n",
        "\n",
        "  #         current_image = imageio.imread(file_path)\n",
        "  #         current_image = resize(current_image, (height_img, width_img))\n",
        "\n",
        "  #         images_list.append(current_image)\n",
        "# ------------------------------------------------------------------------------------\n",
        "\n",
        "  print('saving GIF...')\n",
        "  imageio.mimsave('/content/drive/MyDrive/AI/image_to_gif/output/'+gif_name+version_name, images_list,format='GIF', duration=duration)\n",
        "  print('GIF optimization...')\n",
        "  # optimize('/content/drive/MyDrive/AI/image_to_gif/output/'+gif_name+version_name)"
      ],
      "metadata": {
        "id": "--bl0b9CwPki"
      },
      "execution_count": null,
      "outputs": []
    },
    {
      "cell_type": "code",
      "source": [
        "def create_gif_fps(gif_name, version_name, fps):\n",
        "\n",
        "  png_dir = '/content/drive/MyDrive/AI/image_to_gif/input/'\n",
        "  images_list = []\n",
        "\n",
        "  # filetype = '.jpg'\n",
        "  filetype = '.png'\n",
        "\n",
        "# old heights\n",
        "  # width_img = 2304 / 2\n",
        "  # height_img = 1536 / 2\n",
        "\n",
        "  # height_img = 2304 / 2\n",
        "  # width_img = 1536 / 2\n",
        "\n",
        "  # width_img = 3072 / 2\n",
        "  # height_img = 2048 / 2\n",
        "\n",
        "  width_img = 768\n",
        "  height_img = 512\n",
        "\n",
        "  for file_name in tqdm(sorted(os.listdir(png_dir))):\n",
        "      if file_name.endswith(filetype):\n",
        "          file_path = os.path.join(png_dir, file_name)\n",
        "\n",
        "          current_image = imageio.imread(file_path)\n",
        "          current_image = resize(current_image, (height_img, width_img))\n",
        "\n",
        "          images_list.append(current_image)\n",
        "  print('saving GIF...')\n",
        "  imageio.mimsave('/content/drive/MyDrive/AI/image_to_gif/output/'+gif_name+version_name, images_list,format='GIF', fps=fps)\n",
        "  print('GIF optimization...')\n",
        "  optimize('/content/drive/MyDrive/AI/image_to_gif/output/'+gif_name+version_name)"
      ],
      "metadata": {
        "id": "B_A6excRM38d"
      },
      "execution_count": null,
      "outputs": []
    },
    {
      "cell_type": "markdown",
      "source": [
        "# Name of the exported gif"
      ],
      "metadata": {
        "id": "Nm1IqE_iswpY"
      }
    },
    {
      "cell_type": "code",
      "source": [
        "gif_name = 'jason_small_sample'"
      ],
      "metadata": {
        "id": "3XaPvNRwswd6"
      },
      "execution_count": null,
      "outputs": []
    },
    {
      "cell_type": "markdown",
      "source": [
        "# Run export\n",
        "\n",
        "Slow, then medium, then fast."
      ],
      "metadata": {
        "id": "_9Co1s-4tA7E"
      }
    },
    {
      "cell_type": "code",
      "source": [
        "# create_gif_fps(gif_name, ' - 60.gif', 60)"
      ],
      "metadata": {
        "id": "leL5cYVpM_zg"
      },
      "execution_count": null,
      "outputs": []
    },
    {
      "cell_type": "code",
      "source": [
        "# create_gif_fps(gif_name, ' - 30.gif', 30)"
      ],
      "metadata": {
        "id": "uCXVFEUnM_tb"
      },
      "execution_count": null,
      "outputs": []
    },
    {
      "cell_type": "code",
      "source": [
        "# create_gif_fps(gif_name, ' - ultraslow.gif', 1)"
      ],
      "metadata": {
        "id": "Tni5rIiU4jGT"
      },
      "execution_count": null,
      "outputs": []
    },
    {
      "cell_type": "code",
      "source": [
        "# create_gif_fps(gif_name, ' - lessslow.gif', 0.5)"
      ],
      "metadata": {
        "id": "ontAzzot4obh"
      },
      "execution_count": null,
      "outputs": []
    },
    {
      "cell_type": "code",
      "source": [
        "# create_gif(gif_name, ' - slow.gif', 0.2)"
      ],
      "metadata": {
        "id": "XGIN8tK2S3zU"
      },
      "execution_count": null,
      "outputs": []
    },
    {
      "cell_type": "code",
      "source": [
        "# create_gif(gif_name, ' - medium.gif', 0.1)"
      ],
      "metadata": {
        "id": "BC9rqc6x-rQI"
      },
      "execution_count": null,
      "outputs": []
    },
    {
      "cell_type": "code",
      "source": [
        "create_gif(gif_name, ' - medium.gif', 0.1)"
      ],
      "metadata": {
        "id": "vnfujZtGS4rq"
      },
      "execution_count": null,
      "outputs": []
    },
    {
      "cell_type": "code",
      "source": [
        "# create_gif(gif_name, ' - medium-fast - back and forth.gif', 0.05)"
      ],
      "metadata": {
        "id": "7djkRaKK7wPS"
      },
      "execution_count": null,
      "outputs": []
    },
    {
      "cell_type": "code",
      "source": [
        "# create_gif(gif_name, ' - fast.gif', 0.01)"
      ],
      "metadata": {
        "id": "0q-0oVK9S5Fb"
      },
      "execution_count": null,
      "outputs": []
    }
  ]
}