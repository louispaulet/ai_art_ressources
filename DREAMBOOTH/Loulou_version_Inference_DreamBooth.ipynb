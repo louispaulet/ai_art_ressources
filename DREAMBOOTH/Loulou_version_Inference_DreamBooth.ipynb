{
  "cells": [
    {
      "cell_type": "code",
      "execution_count": 1,
      "metadata": {
        "colab": {
          "base_uri": "https://localhost:8080/"
        },
        "id": "XU7NuMAA2drw",
        "outputId": "5aeb6e68-1748-4db4-89e5-77ca66f03fb8"
      },
      "outputs": [
        {
          "output_type": "stream",
          "name": "stdout",
          "text": [
            "Tesla T4, 15109 MiB, 15109 MiB\n"
          ]
        }
      ],
      "source": [
        "#@markdown Check type of GPU and VRAM available.\n",
        "!nvidia-smi --query-gpu=name,memory.total,memory.free --format=csv,noheader"
      ]
    },
    {
      "cell_type": "markdown",
      "metadata": {
        "id": "G0NV324ZcL9L"
      },
      "source": [
        "## General Settings"
      ]
    },
    {
      "cell_type": "code",
      "execution_count": 2,
      "metadata": {
        "id": "Rxg0y5MBudmd",
        "colab": {
          "base_uri": "https://localhost:8080/"
        },
        "outputId": "16327ad7-a005-49f1-ee6d-7ebdde83a18a"
      },
      "outputs": [
        {
          "output_type": "stream",
          "name": "stdout",
          "text": [
            "Mounted at /content/drive\n",
            "[*] Weights will be saved at /content/drive/MyDrive/stable_diffusion_weights/sks\n"
          ]
        }
      ],
      "source": [
        "#@markdown Name/Path of the initial model.\n",
        "MODEL_NAME = \"CompVis/stable-diffusion-v1-4\" #@param {type:\"string\"}\n",
        "\n",
        "#@markdown Path for images of the concept for training.\n",
        "INSTANCE_DIR = \"/content/data/sks\" #@param {type:\"string\"}\n",
        "!mkdir -p $INSTANCE_DIR\n",
        "\n",
        "#@markdown A general name for class like dog for dog images.\n",
        "CLASS_NAME = \"man\" #@param {type:\"string\"}\n",
        "CLASS_DIR = f\"/content/data/{CLASS_NAME}\"\n",
        "\n",
        "#@markdown If model weights should be saved directly in google drive (takes around 4-5 GB).\n",
        "save_to_gdrive = True #@param {type:\"boolean\"}\n",
        "if save_to_gdrive:\n",
        "    from google.colab import drive\n",
        "    drive.mount('/content/drive')\n",
        "\n",
        "#@markdown Enter the directory name to save model at.\n",
        "\n",
        "OUTPUT_DIR = \"stable_diffusion_weights/sks\" #@param {type:\"string\"}\n",
        "if save_to_gdrive:\n",
        "    OUTPUT_DIR = \"/content/drive/MyDrive/\" + OUTPUT_DIR\n",
        "else:\n",
        "    OUTPUT_DIR = \"/content/\" + OUTPUT_DIR\n",
        "\n",
        "print(f\"[*] Weights will be saved at {OUTPUT_DIR}\")\n",
        "\n",
        "!mkdir -p $OUTPUT_DIR\n",
        "\n",
        "#@markdown sks is a rare identifier, feel free to replace it."
      ]
    },
    {
      "cell_type": "markdown",
      "metadata": {
        "id": "BzM7j0ZSc_9c"
      },
      "source": [
        "https://github.com/ShivamShrirao/diffusers/tree/main/examples/dreambooth"
      ]
    },
    {
      "cell_type": "markdown",
      "metadata": {
        "id": "wnTMyW41cC1E"
      },
      "source": [
        "## Install Requirements"
      ]
    },
    {
      "cell_type": "code",
      "execution_count": 3,
      "metadata": {
        "id": "aLWXPZqjsZVV",
        "colab": {
          "base_uri": "https://localhost:8080/"
        },
        "outputId": "880dfa16-2d47-434e-b788-77afa845eb7e"
      },
      "outputs": [
        {
          "output_type": "stream",
          "name": "stdout",
          "text": [
            "  Installing build dependencies ... \u001b[?25l\u001b[?25hdone\n",
            "  Getting requirements to build wheel ... \u001b[?25l\u001b[?25hdone\n",
            "    Preparing wheel metadata ... \u001b[?25l\u001b[?25hdone\n",
            "\u001b[K     |████████████████████████████████| 163 kB 31.9 MB/s \n",
            "\u001b[?25h  Building wheel for diffusers (PEP 517) ... \u001b[?25l\u001b[?25hdone\n",
            "\u001b[K     |████████████████████████████████| 18.7 MB 144 kB/s \n",
            "\u001b[K     |████████████████████████████████| 143 kB 34.1 MB/s \n",
            "\u001b[K     |████████████████████████████████| 5.3 MB 45.1 MB/s \n",
            "\u001b[K     |████████████████████████████████| 53 kB 1.8 MB/s \n",
            "\u001b[K     |████████████████████████████████| 62.5 MB 1.2 MB/s \n",
            "\u001b[K     |████████████████████████████████| 5.3 MB 63.8 MB/s \n",
            "\u001b[K     |████████████████████████████████| 7.6 MB 65.0 MB/s \n",
            "\u001b[K     |████████████████████████████████| 57 kB 6.2 MB/s \n",
            "\u001b[K     |████████████████████████████████| 55 kB 4.1 MB/s \n",
            "\u001b[K     |████████████████████████████████| 54 kB 3.8 MB/s \n",
            "\u001b[K     |████████████████████████████████| 2.3 MB 57.7 MB/s \n",
            "\u001b[K     |████████████████████████████████| 270 kB 73.8 MB/s \n",
            "\u001b[K     |████████████████████████████████| 112 kB 76.2 MB/s \n",
            "\u001b[K     |████████████████████████████████| 212 kB 64.6 MB/s \n",
            "\u001b[K     |████████████████████████████████| 84 kB 4.2 MB/s \n",
            "\u001b[K     |████████████████████████████████| 84 kB 3.7 MB/s \n",
            "\u001b[K     |████████████████████████████████| 63 kB 1.9 MB/s \n",
            "\u001b[K     |████████████████████████████████| 80 kB 10.0 MB/s \n",
            "\u001b[K     |████████████████████████████████| 68 kB 7.1 MB/s \n",
            "\u001b[K     |████████████████████████████████| 46 kB 3.7 MB/s \n",
            "\u001b[K     |████████████████████████████████| 593 kB 74.3 MB/s \n",
            "\u001b[K     |████████████████████████████████| 856 kB 65.4 MB/s \n",
            "\u001b[K     |████████████████████████████████| 4.0 MB 64.4 MB/s \n",
            "\u001b[?25h  Building wheel for ffmpy (setup.py) ... \u001b[?25l\u001b[?25hdone\n",
            "  Building wheel for python-multipart (setup.py) ... \u001b[?25l\u001b[?25hdone\n"
          ]
        }
      ],
      "source": [
        "!wget -q https://github.com/ShivamShrirao/diffusers/raw/main/examples/dreambooth/train_dreambooth.py\n",
        "%pip install -qq git+https://github.com/ShivamShrirao/diffusers\n",
        "%pip install -q -U --pre triton\n",
        "%pip install -q accelerate==0.12.0 transformers ftfy bitsandbytes gradio"
      ]
    },
    {
      "cell_type": "code",
      "execution_count": 4,
      "metadata": {
        "id": "y4lqqWT_uxD2"
      },
      "outputs": [],
      "source": [
        "# #@title Login to HuggingFace 🤗\n",
        "\n",
        "# #@markdown You need to accept the model license before downloading or using the Stable Diffusion weights. Please, visit the [model card](https://huggingface.co/CompVis/stable-diffusion-v1-4), read the license and tick the checkbox if you agree. You have to be a registered user in 🤗 Hugging Face Hub, and you'll also need to use an access token for the code to work.\n",
        "# from huggingface_hub import notebook_login\n",
        "# !git config --global credential.helper store\n",
        "# notebook_login()"
      ]
    },
    {
      "cell_type": "markdown",
      "metadata": {
        "id": "XfTlc8Mqb8iH"
      },
      "source": [
        "### Install xformers from precompiled wheel."
      ]
    },
    {
      "cell_type": "code",
      "execution_count": 5,
      "metadata": {
        "colab": {
          "base_uri": "https://localhost:8080/"
        },
        "id": "n6dcjPnnaiCn",
        "outputId": "a9ab60b0-c636-4318-d181-ec9080cc04d1"
      },
      "outputs": [
        {
          "output_type": "stream",
          "name": "stdout",
          "text": [
            "\u001b[K     |████████████████████████████████| 102.9 MB 95 kB/s \n",
            "\u001b[?25h"
          ]
        }
      ],
      "source": [
        "%pip install -q https://github.com/metrolobo/xformers_wheels/releases/download/1d31a3ac_various_6/xformers-0.0.14.dev0-cp37-cp37m-linux_x86_64.whl\n",
        "# These were compiled on Tesla T4, should also work on P100, thanks to https://github.com/metrolobo\n",
        "\n",
        "# If precompiled wheels don't work, install it with the following command. It will take around 40 minutes to compile.\n",
        "# %pip install git+https://github.com/facebookresearch/xformers@1d31a3a#egg=xformers"
      ]
    },
    {
      "cell_type": "markdown",
      "metadata": {
        "id": "ToNG4fd_dTbF"
      },
      "source": [
        "## Inference"
      ]
    },
    {
      "cell_type": "code",
      "execution_count": 6,
      "metadata": {
        "id": "gW15FjffdTID"
      },
      "outputs": [],
      "source": [
        "import torch\n",
        "from torch import autocast\n",
        "from diffusers import StableDiffusionPipeline\n",
        "from IPython.display import display\n",
        "\n",
        "model_path = OUTPUT_DIR             # If you want to use previously trained model saved in gdrive, replace this with the full path of model in gdrive\n",
        "\n",
        "pipe = StableDiffusionPipeline.from_pretrained(model_path, torch_dtype=torch.float16).to(\"cuda\")\n",
        "g_cuda = None"
      ]
    },
    {
      "cell_type": "code",
      "execution_count": 7,
      "metadata": {
        "colab": {
          "base_uri": "https://localhost:8080/"
        },
        "id": "oIzkltjpVO_f",
        "outputId": "58574855-347f-45ce-ed9d-4edc5f88df82"
      },
      "outputs": [
        {
          "output_type": "execute_result",
          "data": {
            "text/plain": [
              "<torch._C.Generator at 0x7fd6d2594c90>"
            ]
          },
          "metadata": {},
          "execution_count": 7
        }
      ],
      "source": [
        "#@markdown Can set random seed here for reproducibility.\n",
        "g_cuda = torch.Generator(device='cuda')\n",
        "seed = 50021 #@param {type:\"number\"}\n",
        "g_cuda.manual_seed(seed)"
      ]
    },
    {
      "cell_type": "code",
      "execution_count": 8,
      "metadata": {
        "id": "K6xoHWSsbcS3"
      },
      "outputs": [],
      "source": [
        "# #@title Run for generating images.\n",
        "\n",
        "# prompt = \"masterwork portrait of sks man, painting by van gogh\" #@param {type:\"string\"}\n",
        "# negative_prompt = \"\" #@param {type:\"string\"}\n",
        "# num_samples = 8 #@param {type:\"number\"}\n",
        "# guidance_scale = 7.5 #@param {type:\"number\"}\n",
        "# num_inference_steps = 50 #@param {type:\"number\"}\n",
        "# height = 512 #@param {type:\"number\"}\n",
        "# width = 512 #@param {type:\"number\"}\n",
        "\n",
        "# with autocast(\"cuda\"), torch.inference_mode():\n",
        "#     images = pipe(\n",
        "#         prompt,\n",
        "#         height=height,\n",
        "#         width=width,\n",
        "#         negative_prompt=negative_prompt,\n",
        "#         num_images_per_prompt=num_samples,\n",
        "#         num_inference_steps=num_inference_steps,\n",
        "#         guidance_scale=guidance_scale,\n",
        "#         generator=g_cuda\n",
        "#     ).images\n",
        "\n",
        "# for img in images:\n",
        "#     display(img)"
      ]
    },
    {
      "cell_type": "markdown",
      "source": [
        "# Test section"
      ],
      "metadata": {
        "id": "NfjgJ0r9wG6K"
      }
    },
    {
      "cell_type": "markdown",
      "source": [
        "## define temp functions"
      ],
      "metadata": {
        "id": "BtpJIJ03z5S3"
      }
    },
    {
      "cell_type": "code",
      "source": [
        "from datetime import datetime\n",
        "\n",
        "def get_string_timestamp():\n",
        "  return datetime.now().strftime(\"%m%d%Y_%H_%M_%S\")"
      ],
      "metadata": {
        "id": "IRcRLLV0ypLh"
      },
      "execution_count": 9,
      "outputs": []
    },
    {
      "cell_type": "code",
      "source": [
        "from tqdm.auto import tqdm"
      ],
      "metadata": {
        "id": "h9HDAPvKy8Oc"
      },
      "execution_count": 10,
      "outputs": []
    },
    {
      "cell_type": "code",
      "source": [
        "#get images for all global variables and a single prompt\n",
        "def get_images_for_prompt(curr_prompt, height, width, negative_prompt, num_samples, num_inference_steps, guidance_scale, g_cuda, display_images_in_notebook):\n",
        "  with autocast(\"cuda\"), torch.inference_mode():\n",
        "      images = pipe(\n",
        "          curr_prompt,\n",
        "          height=height,\n",
        "          width=width,\n",
        "          negative_prompt=negative_prompt,\n",
        "          num_images_per_prompt=num_samples,\n",
        "          num_inference_steps=num_inference_steps,\n",
        "          guidance_scale=guidance_scale,\n",
        "          generator=g_cuda\n",
        "      ).images\n",
        "\n",
        "  cpt = 0\n",
        "  for img in tqdm(images):\n",
        "    cpt = cpt + 1\n",
        "    if display_images_in_notebook:\n",
        "      display(img)\n",
        "    img.save(output_pictures_folder+get_string_timestamp()+'_'+str(cpt)+'_image.png')"
      ],
      "metadata": {
        "id": "w_1EiApvwsI1"
      },
      "execution_count": 11,
      "outputs": []
    },
    {
      "cell_type": "code",
      "source": [
        "output_pictures_folder = '/content/drive/MyDrive/AI/DREAMBOOTH/output/'"
      ],
      "metadata": {
        "id": "76oDFO5AxsVp"
      },
      "execution_count": 12,
      "outputs": []
    },
    {
      "cell_type": "markdown",
      "source": [
        "## archive images\n"
      ],
      "metadata": {
        "id": "xtowlLpiX9g4"
      }
    },
    {
      "cell_type": "code",
      "source": [
        "output_pictures_folder_bash = '/content/drive/MyDrive/AI/DREAMBOOTH'\n",
        "!mkdir $output_pictures_folder_bash/$(date +%Y%m%d_%H%M%S) && mv $output_pictures_folder_bash/output/*.png $output_pictures_folder_bash/$(date +%Y%m%d_%H%M%S)"
      ],
      "metadata": {
        "id": "eLUWfjInYUXZ"
      },
      "execution_count": 4,
      "outputs": []
    },
    {
      "cell_type": "markdown",
      "source": [
        "## small run section"
      ],
      "metadata": {
        "id": "YORaWdNBz14H"
      }
    },
    {
      "cell_type": "code",
      "source": [
        "#define a prompt list\n",
        "master_prompt_list = [\n",
        "    # 'award winning photorealistic portrait of sks man, painting by van gogh and Jonathan Yeo, trending on Deviantart',\n",
        "    # 'award winning photorealistic masterwork portrait of sks man, painting by van gogh and Jonathan Yeo, trending on Deviantart',\n",
        "    # 'sks man portrait, painting by van gogh and Jonathan Yeo, trending on Deviantart, award winning photorealistic masterwork portrait',\n",
        "    # 'sks man portrait, painting by van gogh and Jonathan Yeo, trending on Deviantart, award winning photorealistic portrait',\n",
        "    # 'sks man portrait, painting by van gogh and Jonathan Yeo, trending on Deviantart, award winning masterwork portrait',\n",
        "    # 'sks man portrait, painting by van gogh and Jonathan Yeo, trending on Deviantart, photorealistic masterwork portrait',\n",
        "    # 'sks man sks man award winning photorealistic masterwork portrait of sks man, painting by van gogh and Jonathan Yeo, trending on Deviantart',\n",
        "    # 'sks portrait, Postimpressionism masterwork painting of sks man, trending on Deviantart'\n",
        "    # 'award winning masterwork portrait of sks man, painting by van gogh and Jonathan Yeo, trending on Deviantart',\n",
        "    # 'masterwork portrait of sks man, painting by van gogh and Jonathan Yeo, trending on Artstation',\n",
        "    # 'masterwork portrait of sks man, painting by van gogh, trending on Artstation',\n",
        "    # 'masterwork portrait of sks man, painting in the style of van gogh',\n",
        "    # 'masterwork portrait of sks man by van gogh',\n",
        "    # 'sks man portrait in the Dutch Post-Impressionist style, sks man portrait oil on canvas by van gogh'\n",
        "\n",
        "    \n",
        "    # \"sks man portrait, highly detailed portrait of sks man, unreal engine, fantasy art by greg rutkowski, loish, rhads, ferdinand knab, makoto shinkai and lois van baarle, ilya kuvshinov, rossdraws, tom bagshaw, global illumination, radiant light, detailed and intricate environment\",\n",
        "    # \"sks man portrait, highly detailed portrait of sks man, unreal engine, fantasy art by van gogh, loish, rhads, ferdinand knab, makoto shinkai and lois van baarle, ilya kuvshinov, rossdraws, tom bagshaw, global illumination, radiant light, detailed and intricate environment\",\n",
        "    # \"sks man portrait, highly detailed portrait of sks man, unreal engine, fantasy art by Jonathan Yeo, loish, rhads, ferdinand knab, makoto shinkai and lois van baarle, ilya kuvshinov, rossdraws, tom bagshaw, global illumination, radiant light, detailed and intricate environment\",\n",
        "    \n",
        "    # \"sks man portrait, high quality high detail painting by rembrandt, portrait of a modern sks man, hd, photorealistic lighting\",\n",
        "    # \"sks man portrait, high quality high detail painting by van gogh, portrait of a modern sks man, hd, photorealistic lighting\",\n",
        "    # \"sks man portrait, high quality high detail painting by greg rutkowski, portrait of a modern sks man, hd, photorealistic lighting\",\n",
        "    # \"sks man portrait, high quality high detail painting by Jonathan Yeo, portrait of a modern sks man, hd, photorealistic lighting\",\n",
        "\n",
        "    # \"sks man portrait, high quality high detail sks man portrait, portrait of a modern sks man, hd, photorealistic lighting, oil on canvas masterwork portrait painting\",\n",
        "\n",
        "    # \"sks man portrait in byzantine mosaic\",\n",
        "    # \"sks man portrait in Opus tessellatum mosaic\", \n",
        "    # \"sks man portrait in roman mosaic\", \n",
        "    # \"sks man portrait in intricate mosaic\", \n",
        "    # \"sks man portrait in gilded mosaic\", \n",
        "\n",
        "    # \"sks man portrait in the style of a roman mosaic\", \n",
        "    # \"sks man roman mosaic\", \n",
        "    # \"sks man, roman mosaic\", \n",
        "\n",
        "    # \"sks man mosaic portrait of emperor sks man by klimt and gaudí from roman villa pompeii high detail 4k picture museum of mosaics athens intricate tesselation sks man, mosaic beard, mosaic\", \n",
        "\n",
        "    # \"Opus tessellatum of sks man, 4k picture of mosaic sks man portrait\",\n",
        "\n",
        "\n",
        "    # \"award winning picture portrait of sks man face by Martin Schoeller and Steve McCurry, with giant fire explosion in the background\",\n",
        "    # \"award winning picture portrait of sks man face by Martin Schoeller, with giant fire explosion in the background\",\n",
        "    # \"award winning picture portrait of sks man face by Steve McCurry, with giant fire explosion in the background\",\n",
        "\n",
        "    # \"award winning picture portrait of sks man face with giant fire explosion in the background\",\n",
        "    # \"award winning picture portrait of sks man face giant fire background\",\n",
        "    # \"award winning picture portrait of sks man face giant explosion background\",\n",
        "\n",
        "    # \"award winning selfie of sks man in the middle of a forest fire\",\n",
        "    # \"selfie sks man in active forest fire\",\n",
        "    # \"selfie sks man in raging forest fire\",\n",
        "    \n",
        "    # \"selfie sks man in the worst forest fire\",\n",
        "    # \"award winning selfie of sks man forest fire in the background\",\n",
        "\n",
        "    # \"HD selfie sks man white male in front of nuclear missile in a secret iranian facility with Radiation warning symbol sign\",\n",
        "\n",
        "  # \"HD selfie sks man inside of United States Capitol during attack\",\n",
        "  # \"HD selfie sks man inside of United States Capitol during riots\",\n",
        "  # \"HD selfie sks man participating in riots inside the United States Capitol\",\n",
        "\n",
        "  # \"HD selfie sks man participating in riots inside the USA Capitol\",\n",
        "\n",
        "  # \"sks man white male wearing a red baseball cap\",\n",
        "  # \"portrait sks man white male wearing a red baseball cap\",\n",
        "  # \"picture sks man white male wearing a red baseball cap\",\n",
        "  # \"picture portrait sks man white male wearing a red baseball cap\",\n",
        "\n",
        "\n",
        "# \"HD selfie sks man red baseball cap\",\n",
        "\n",
        "  # \"HD selfie sks man red baseball cap inside of building engulfed in massive flames smoke column\",\n",
        "\n",
        "  # \"flames engulfing usa capitol\",\n",
        "\n",
        "  \"HD selfie sks man wearing apollo spacesuit\",\n",
        "  \"HD selfie sks man wearing Extravehicular Mobility Unit\",\n",
        "  \"HD selfie sks man wearing E.M.U\",\n",
        "  \"HD selfie sks man wearing NASA EMU\",\n",
        "  \"HD selfie sks man wearing NASA EMU performing EVA on the surface of mars\",\n",
        "  \"HD selfie sks man wearing NASA spacesuit performing EVA on the surface of mars\",\n",
        "  \"HD selfie sks man wearing NASA EMU spacesuit performing EVA on the surface of mars\",\n",
        "\n",
        "  # \"government building burning\",\n",
        "  # \"building in flames\",\n",
        "]"
      ],
      "metadata": {
        "id": "BiRtkg1IwGjU"
      },
      "execution_count": 31,
      "outputs": []
    },
    {
      "cell_type": "code",
      "source": [
        "# craft age related prompts\n",
        "\n",
        "# master_prompt_list = []\n",
        "# for age in range(15, 101, 5):\n",
        "#   # master_prompt_list.append(\"HD selfie \"+str(age)+\" year old sks man\")\n",
        "#   master_prompt_list.append(f\"HD selfie {age} year old sks man\")\n",
        "# # master_prompt_list"
      ],
      "metadata": {
        "id": "RiaurKgO28uv"
      },
      "execution_count": 32,
      "outputs": []
    },
    {
      "cell_type": "code",
      "source": [
        "#pass settings as global variables\n",
        "negative_prompt = \"blurry\" #@param {type:\"string\"}\n",
        "num_samples = 8 #@param {type:\"number\"}\n",
        "guidance_scale = 7.5 #@param {type:\"number\"}\n",
        "num_inference_steps = 50 #@param {type:\"number\"}\n",
        "height = 512 #@param {type:\"number\"}\n",
        "width = 512 #@param {type:\"number\"}"
      ],
      "metadata": {
        "id": "dbltrjG-w6eO"
      },
      "execution_count": 33,
      "outputs": []
    },
    {
      "cell_type": "code",
      "source": [
        "for curr_prompt in tqdm(master_prompt_list):\n",
        "  for gens in tqdm(range(20)):\n",
        "\n",
        "    display_images_in_notebook = False\n",
        "\n",
        "    get_images_for_prompt(curr_prompt, height, width, negative_prompt, num_samples, num_inference_steps, guidance_scale, g_cuda, display_images_in_notebook)"
      ],
      "metadata": {
        "id": "1d3lipY6wlsr"
      },
      "execution_count": null,
      "outputs": []
    }
  ],
  "metadata": {
    "accelerator": "GPU",
    "colab": {
      "collapsed_sections": [],
      "provenance": [],
      "toc_visible": true
    },
    "kernelspec": {
      "display_name": "Python 3.10.7 64-bit",
      "language": "python",
      "name": "python3"
    },
    "language_info": {
      "name": "python",
      "version": "3.10.7"
    },
    "vscode": {
      "interpreter": {
        "hash": "e7370f93d1d0cde622a1f8e1c04877d8463912d04d973331ad4851f04de6915a"
      }
    }
  },
  "nbformat": 4,
  "nbformat_minor": 0
}