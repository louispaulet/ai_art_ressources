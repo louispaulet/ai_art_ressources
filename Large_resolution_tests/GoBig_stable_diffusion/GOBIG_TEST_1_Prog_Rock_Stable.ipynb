{
  "nbformat": 4,
  "nbformat_minor": 0,
  "metadata": {
    "colab": {
      "provenance": [],
      "machine_shape": "hm",
      "collapsed_sections": []
    },
    "kernelspec": {
      "name": "python3",
      "display_name": "Python 3"
    },
    "language_info": {
      "name": "python"
    },
    "accelerator": "GPU",
    "gpuClass": "standard"
  },
  "cells": [
    {
      "cell_type": "markdown",
      "source": [
        "# Install libs and clone repos"
      ],
      "metadata": {
        "id": "jpP_WdYvkt38"
      }
    },
    {
      "cell_type": "markdown",
      "source": [
        "## Clone progrock stable"
      ],
      "metadata": {
        "id": "diDdp8Enkww_"
      }
    },
    {
      "cell_type": "code",
      "execution_count": 1,
      "metadata": {
        "colab": {
          "base_uri": "https://localhost:8080/"
        },
        "id": "GzP22bktfA6C",
        "outputId": "2c508b12-8611-4543-acaa-ff27f805732f"
      },
      "outputs": [
        {
          "output_type": "stream",
          "name": "stdout",
          "text": [
            "Cloning into 'prs'...\n",
            "remote: Enumerating objects: 740, done.\u001b[K\n",
            "remote: Total 740 (delta 0), reused 0 (delta 0), pack-reused 740\u001b[K\n",
            "Receiving objects: 100% (740/740), 42.60 MiB | 47.42 MiB/s, done.\n",
            "Resolving deltas: 100% (325/325), done.\n"
          ]
        }
      ],
      "source": [
        "!git clone https://github.com/lowfuel/progrock-stable prs"
      ]
    },
    {
      "cell_type": "markdown",
      "source": [
        "## Install CondaColab"
      ],
      "metadata": {
        "id": "ynNVqGx-krgO"
      }
    },
    {
      "cell_type": "code",
      "source": [
        "!pip install -q condacolab\n",
        "import condacolab\n",
        "condacolab.install()"
      ],
      "metadata": {
        "colab": {
          "base_uri": "https://localhost:8080/"
        },
        "id": "4NlBTh-Ug5pH",
        "outputId": "889700ff-16e8-49c4-d2e1-c6a68f20a597"
      },
      "execution_count": 2,
      "outputs": [
        {
          "output_type": "stream",
          "name": "stdout",
          "text": [
            "⏬ Downloading https://github.com/jaimergp/miniforge/releases/latest/download/Mambaforge-colab-Linux-x86_64.sh...\n",
            "📦 Installing...\n",
            "📌 Adjusting configuration...\n",
            "🩹 Patching environment...\n",
            "⏲ Done in 0:00:20\n",
            "🔁 Restarting kernel...\n"
          ]
        }
      ]
    },
    {
      "cell_type": "markdown",
      "source": [
        "# Kernel Reboot Here"
      ],
      "metadata": {
        "id": "88eYWu1CkpJc"
      }
    },
    {
      "cell_type": "code",
      "source": [
        "import condacolab\n",
        "condacolab.check()"
      ],
      "metadata": {
        "colab": {
          "base_uri": "https://localhost:8080/"
        },
        "id": "OQkMniE5jhvH",
        "outputId": "b6a65182-cac9-4de2-dbc1-149dc4edf974"
      },
      "execution_count": 2,
      "outputs": [
        {
          "output_type": "stream",
          "name": "stdout",
          "text": [
            "✨🍰✨ Everything looks OK!\n"
          ]
        }
      ]
    },
    {
      "cell_type": "markdown",
      "source": [
        "# Conda env is not persistent from cell to cell\n",
        "\n",
        "All subsequent commands need to be run from CLI to be run frm prs env"
      ],
      "metadata": {
        "id": "NvwXabUOOYT9"
      }
    },
    {
      "cell_type": "markdown",
      "source": [
        "## Git LFS pull HuggingFace ckpt files"
      ],
      "metadata": {
        "id": "34YOKsZhMe9K"
      }
    },
    {
      "cell_type": "markdown",
      "source": [
        "It contains the ckpt file (model v1.4). 4go.  \n",
        "```\n",
        "$ pip install huggingface_hub  \n",
        "$ huggingface-cli login  \n",
        "```\n",
        "Fill token from here: https://huggingface.co/settings/tokens   \n",
        "```\n",
        "$ git config --global credential.helper store  \n",
        "\n",
        "$ git clone https://huggingface.co/CompVis/stable-diffusion-v-1-4-original  \n",
        "$ cd stable-diffusion-v-1-4-original/  \n",
        "$ git lfs pull --include \"sd-v1-4.ckpt\n",
        "```\n",
        "\n",
        " \n"
      ],
      "metadata": {
        "id": "ajaiV0hgMkHn"
      }
    },
    {
      "cell_type": "markdown",
      "source": [
        "## Install and activate `prs` env"
      ],
      "metadata": {
        "id": "jzqkSFDYNPZY"
      }
    },
    {
      "cell_type": "markdown",
      "source": [
        "```\n",
        "$ cd prs/\n",
        "$ conda env create -f environment.yaml\n",
        "$ source activate base\n",
        "\n",
        "```"
      ],
      "metadata": {
        "id": "Q2le5O6rNdPv"
      }
    },
    {
      "cell_type": "markdown",
      "source": [
        "## Examples to run in `prs` env form Terminal\n",
        "\n",
        "Copy paste these commands to run them in terminal window.  "
      ],
      "metadata": {
        "id": "HqIqlmR1MJUm"
      }
    },
    {
      "cell_type": "markdown",
      "source": [
        "Run in terminal form `prs` env:  \n",
        "```\n",
        "$ python prs.py -p \"A painting of a troll under a bridge, by Hubert Robert\"\n",
        "\n",
        "$ python prs.py -p \"tropical forest, deep canyon, blue sea, blue sky, natural landscape, by Thomas Cole, oil on canvas, intricate details\" --gobig --gobig_init \"/content/4cropped workday picture.jpg\"\n",
        "$ python prs.py -p \"tropical forest, deep canyon, blue sea, blue sky, natural landscape, by Thomas Cole, oil on canvas, intricate details\" --gobig --gobig_init \"/content/10x10_loulou_4portrait (45).jpg\"\n",
        "$ python prs.py --gobig --gobig_init \"/content/512cropped workday picture.png\"\n",
        "$ python prs.py -p \"tropical forest, deep canyon, blue sea, blue sky, natural landscape, by Thomas Cole, oil on canvas, intricate details\" --gobig --gobig_init \"/content/512forest_canyon_grid_10x10 - Copie.jpg\"\n",
        "# python prs.py -p \"tropical forest, deep canyon, blue sea, blue sky, natural landscape, by Thomas Cole, oil on canvas, intricate details\" --gobig --gobig_init \"/content/1024forest_canyon_grid_10x10.jpg\"\n",
        "```"
      ],
      "metadata": {
        "id": "fHnArX6PMyJ_"
      }
    },
    {
      "cell_type": "code",
      "source": [],
      "metadata": {
        "id": "JRaKATDWrqra"
      },
      "execution_count": null,
      "outputs": []
    }
  ]
}