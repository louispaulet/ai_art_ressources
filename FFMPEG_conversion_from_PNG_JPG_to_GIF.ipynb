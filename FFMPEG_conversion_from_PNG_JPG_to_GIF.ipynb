{
  "nbformat": 4,
  "nbformat_minor": 0,
  "metadata": {
    "colab": {
      "provenance": [],
      "collapsed_sections": []
    },
    "kernelspec": {
      "name": "python3",
      "display_name": "Python 3"
    },
    "language_info": {
      "name": "python"
    }
  },
  "cells": [
    {
      "cell_type": "markdown",
      "source": [
        "# Convert PNG or JPG to MP4 video files\n",
        "\n",
        "Framerate is 10 by default."
      ],
      "metadata": {
        "id": "-3Ao3oMx89Pg"
      }
    },
    {
      "cell_type": "code",
      "source": [
        "!pip install tqdm"
      ],
      "metadata": {
        "colab": {
          "base_uri": "https://localhost:8080/"
        },
        "id": "ZroIMNtel7xT",
        "outputId": "56da5297-b8d0-4af5-b49c-afc9ca382787"
      },
      "execution_count": null,
      "outputs": [
        {
          "output_type": "stream",
          "name": "stdout",
          "text": [
            "Looking in indexes: https://pypi.org/simple, https://us-python.pkg.dev/colab-wheels/public/simple/\n",
            "Requirement already satisfied: tqdm in /usr/local/lib/python3.7/dist-packages (4.64.1)\n"
          ]
        }
      ]
    },
    {
      "cell_type": "markdown",
      "source": [
        "## clean and make dirs"
      ],
      "metadata": {
        "id": "IyXQO9IC9Idq"
      }
    },
    {
      "cell_type": "code",
      "source": [
        "!rm /content/input/*\n",
        "!rm /content/output/*"
      ],
      "metadata": {
        "id": "pUunxHOAUqwK",
        "colab": {
          "base_uri": "https://localhost:8080/"
        },
        "outputId": "2cdf1528-f915-4e86-f5c4-9fa7c899edf7"
      },
      "execution_count": null,
      "outputs": [
        {
          "output_type": "stream",
          "name": "stdout",
          "text": [
            "rm: cannot remove '/content/input/*': No such file or directory\n",
            "rm: cannot remove '/content/output/*': No such file or directory\n"
          ]
        }
      ]
    },
    {
      "cell_type": "code",
      "source": [
        "!mkdir /content/input/\n",
        "!mkdir /content/output/"
      ],
      "metadata": {
        "id": "uvMaoBOnT4x0"
      },
      "execution_count": null,
      "outputs": []
    },
    {
      "cell_type": "markdown",
      "source": [
        "## OPTION: import files"
      ],
      "metadata": {
        "id": "ogqdq9l79M1g"
      }
    },
    {
      "cell_type": "code",
      "source": [
        "source_files = \"/content/drive/MyDrive/AI/IMG2IMG_stable_diffusion/output\""
      ],
      "metadata": {
        "id": "YMH7JcYETftX"
      },
      "execution_count": null,
      "outputs": []
    },
    {
      "cell_type": "code",
      "source": [
        "conversion_source = \"/content/input/ffmpeg_conversion/\""
      ],
      "metadata": {
        "id": "DUF7jXafTlP_"
      },
      "execution_count": null,
      "outputs": []
    },
    {
      "cell_type": "code",
      "source": [
        "video_file_output = \"/content/drive/MyDrive/AI/FFMPEG/output/\""
      ],
      "metadata": {
        "id": "g1F6Rb5sUJhs"
      },
      "execution_count": null,
      "outputs": []
    },
    {
      "cell_type": "code",
      "source": [
        "!mkdir -p $conversion_source"
      ],
      "metadata": {
        "id": "6IQ8ESje1VAf"
      },
      "execution_count": null,
      "outputs": []
    },
    {
      "cell_type": "code",
      "execution_count": null,
      "metadata": {
        "id": "4ulRIQZMTx5X"
      },
      "outputs": [],
      "source": [
        "!cp -r $source_files/* $conversion_source"
      ]
    },
    {
      "cell_type": "code",
      "source": [
        "# !cp -r /content/drive/MyDrive/AI/IMG2IMG_stable_diffusion/output/* /content/input/shrek_start_hd/"
      ],
      "metadata": {
        "id": "Q-qXrtR7MM5D"
      },
      "execution_count": null,
      "outputs": []
    },
    {
      "cell_type": "code",
      "source": [
        "# %cd /content/input/shrek_start/"
      ],
      "metadata": {
        "id": "NAu8SPhQpXli"
      },
      "execution_count": null,
      "outputs": []
    },
    {
      "cell_type": "markdown",
      "source": [
        "## strip numeric prefix"
      ],
      "metadata": {
        "id": "-Da9WVmVqnm7"
      }
    },
    {
      "cell_type": "code",
      "source": [
        "# %%sh\n",
        "# for file in *-*.png\n",
        "#  do\n",
        "#    newName=\"${file#*-}\"\n",
        "#    mv -- \"${file}\" \"${newName}\"\n",
        "#  done"
      ],
      "metadata": {
        "id": "e1sI49VfqI7q"
      },
      "execution_count": null,
      "outputs": []
    },
    {
      "cell_type": "code",
      "source": [
        "# !ls /content/input/shrek_start\n",
        "\n",
        "# !mkdir /content/input/jason\n",
        "# !mv /content/input/*.png /content/input/jason/"
      ],
      "metadata": {
        "id": "GlEDuEvCmcuk"
      },
      "execution_count": null,
      "outputs": []
    },
    {
      "cell_type": "markdown",
      "source": [
        "# Perform conversion\n",
        "\n",
        "All the folders in input dir will be used to create MP4 files.  \n",
        "The folder names will be used to name the files. \n"
      ],
      "metadata": {
        "id": "QFB-DBzR9QNS"
      }
    },
    {
      "cell_type": "code",
      "source": [
        "def convert_imgs_to_mp4():\n",
        "  from glob import glob\n",
        "  from tqdm.auto import tqdm\n",
        "\n",
        "  dir_list = sorted(glob(\"/content/input/*/\", recursive = True))\n",
        "  print(dir_list)\n",
        "  for curr_dir in tqdm(dir_list):\n",
        "    proj_name = curr_dir.split('/' )[-2]\n",
        "    out_path_name = \"/content/output/\"+proj_name+\".mp4\"\n",
        "    print(out_path_name)\n",
        "    %cd $curr_dir\n",
        "    !ffmpeg -framerate 3 -pattern_type glob -i '*.png' \\\n",
        "  -c:v libx264 -r 30 -pix_fmt yuv420p $out_path_name\n",
        "\n",
        "convert_imgs_to_mp4()"
      ],
      "metadata": {
        "id": "B8rNR_QAPO6H"
      },
      "execution_count": null,
      "outputs": []
    },
    {
      "cell_type": "markdown",
      "source": [
        "## archive results"
      ],
      "metadata": {
        "id": "iZnnjGXE9bnz"
      }
    },
    {
      "cell_type": "code",
      "source": [
        "!cp -r -v /content/output/* $video_file_output"
      ],
      "metadata": {
        "id": "b_ImkeQFT8Fw",
        "colab": {
          "base_uri": "https://localhost:8080/"
        },
        "outputId": "2cb036c0-f06d-41b2-a51d-32d3bf70f586"
      },
      "execution_count": null,
      "outputs": [
        {
          "output_type": "stream",
          "name": "stdout",
          "text": [
            "'/content/output/ffmpeg_conversion.mp4' -> '/content/drive/MyDrive/AI/FFMPEG/output/ffmpeg_conversion.mp4'\n"
          ]
        }
      ]
    }
  ]
}