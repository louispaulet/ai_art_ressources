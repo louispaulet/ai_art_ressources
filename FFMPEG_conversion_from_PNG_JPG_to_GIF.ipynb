{
  "nbformat": 4,
  "nbformat_minor": 0,
  "metadata": {
    "colab": {
      "provenance": [],
      "collapsed_sections": []
    },
    "kernelspec": {
      "name": "python3",
      "display_name": "Python 3"
    },
    "language_info": {
      "name": "python"
    }
  },
  "cells": [
    {
      "cell_type": "markdown",
      "source": [
        "# Convert PNG or JPG to MP4 video files\n",
        "\n",
        "Framerate is 10 by default."
      ],
      "metadata": {
        "id": "-3Ao3oMx89Pg"
      }
    },
    {
      "cell_type": "markdown",
      "source": [
        "## clean and make dirs"
      ],
      "metadata": {
        "id": "IyXQO9IC9Idq"
      }
    },
    {
      "cell_type": "code",
      "source": [
        "!rm /content/input/*\n",
        "!rm /content/output/*"
      ],
      "metadata": {
        "id": "pUunxHOAUqwK"
      },
      "execution_count": null,
      "outputs": []
    },
    {
      "cell_type": "code",
      "source": [
        "!mkdir /content/input/\n",
        "!mkdir /content/output/"
      ],
      "metadata": {
        "id": "uvMaoBOnT4x0",
        "colab": {
          "base_uri": "https://localhost:8080/"
        },
        "outputId": "2d22b228-2a9a-4311-87bb-291596717cd5"
      },
      "execution_count": null,
      "outputs": [
        {
          "output_type": "stream",
          "name": "stdout",
          "text": [
            "mkdir: cannot create directory ‘/content/input/’: File exists\n",
            "mkdir: cannot create directory ‘/content/output/’: File exists\n"
          ]
        }
      ]
    },
    {
      "cell_type": "markdown",
      "source": [
        "## OPTION: import files"
      ],
      "metadata": {
        "id": "ogqdq9l79M1g"
      }
    },
    {
      "cell_type": "code",
      "execution_count": null,
      "metadata": {
        "id": "4ulRIQZMTx5X"
      },
      "outputs": [],
      "source": [
        "!cp -r -v /content/drive/MyDrive/AI/face_restore/olds/* /content/input/"
      ]
    },
    {
      "cell_type": "markdown",
      "source": [
        "# Perform conversion\n",
        "\n",
        "All the folders in input dir will be used to create MP4 files.  \n",
        "The folder names will be used to name the files. \n"
      ],
      "metadata": {
        "id": "QFB-DBzR9QNS"
      }
    },
    {
      "cell_type": "code",
      "source": [
        "def convert_imgs_to_mp4():\n",
        "  from glob import glob\n",
        "  from tqdm.autonotebook import tqdm\n",
        "\n",
        "  dir_list = glob(\"/content/input/*/\", recursive = True)\n",
        "  print(dir_list)\n",
        "  for curr_dir in tqdm(dir_list):\n",
        "    proj_name = curr_dir.split('/' )[-2]\n",
        "    out_path_name = \"/content/output/\"+proj_name+\".mp4\"\n",
        "    print(out_path_name)\n",
        "    %cd $curr_dir\n",
        "    !ffmpeg -framerate 10 -pattern_type glob -i '*.jpg' \\\n",
        "  -c:v libx264 -r 30 -pix_fmt yuv420p $out_path_name\n",
        "\n",
        "convert_imgs_to_mp4()"
      ],
      "metadata": {
        "id": "B8rNR_QAPO6H"
      },
      "execution_count": null,
      "outputs": []
    },
    {
      "cell_type": "markdown",
      "source": [
        "## archive results"
      ],
      "metadata": {
        "id": "iZnnjGXE9bnz"
      }
    },
    {
      "cell_type": "code",
      "source": [
        "!cp -r -v /content/output/* \"/content/drive/MyDrive/AI output backup/stable_diffusion/GIFs/\""
      ],
      "metadata": {
        "id": "b_ImkeQFT8Fw"
      },
      "execution_count": null,
      "outputs": []
    }
  ]
}