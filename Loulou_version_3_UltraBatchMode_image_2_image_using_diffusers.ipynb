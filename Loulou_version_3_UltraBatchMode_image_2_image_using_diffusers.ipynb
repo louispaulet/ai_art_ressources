{
  "nbformat": 4,
  "nbformat_minor": 0,
  "metadata": {
    "colab": {
      "provenance": [],
      "collapsed_sections": [],
      "machine_shape": "hm",
      "private_outputs": true,
      "toc_visible": true
    },
    "kernelspec": {
      "name": "python3",
      "display_name": "Python 3"
    },
    "language_info": {
      "name": "python"
    },
    "accelerator": "GPU",
    "gpuClass": "standard"
  },
  "cells": [
    {
      "cell_type": "markdown",
      "source": [
        "# Image2Image Pipeline for Stable Diffusion using 🧨 Diffusers \n",
        "\n",
        "This notebook shows how to create a custom `diffusers` pipeline for  text-guided image-to-image generation with Stable Diffusion model using  🤗 Hugging Face [🧨 Diffusers library](https://github.com/huggingface/diffusers). \n",
        "\n",
        "For a general introduction to the Stable Diffusion model please refer to this [colab](https://colab.research.google.com/github/huggingface/notebooks/blob/main/diffusers/stable_diffusion.ipynb).\n",
        "\n"
      ],
      "metadata": {
        "id": "846pN2uHGJLx"
      }
    },
    {
      "cell_type": "markdown",
      "source": [
        "# UltraBatchMode\n",
        "\n",
        "BatchMode (one prompt for many images) * n folders"
      ],
      "metadata": {
        "id": "XUSKohPlumNx"
      }
    },
    {
      "cell_type": "markdown",
      "source": [
        "# Setup"
      ],
      "metadata": {
        "id": "Mkgaont0VGRw"
      }
    },
    {
      "cell_type": "markdown",
      "source": [
        "## import GDrive"
      ],
      "metadata": {
        "id": "uLWeucAKVIWw"
      }
    },
    {
      "cell_type": "code",
      "source": [
        "from google.colab import drive\n",
        "drive.mount('/content/drive')"
      ],
      "metadata": {
        "id": "z4wiAYmxAGlK"
      },
      "execution_count": null,
      "outputs": []
    },
    {
      "cell_type": "markdown",
      "source": [
        "## Check GPU"
      ],
      "metadata": {
        "id": "bbFGTbibVKFO"
      }
    },
    {
      "cell_type": "code",
      "execution_count": null,
      "metadata": {
        "id": "L52bmJXkAMQz"
      },
      "outputs": [],
      "source": [
        "!nvidia-smi"
      ]
    },
    {
      "cell_type": "markdown",
      "source": [
        "## Install libs"
      ],
      "metadata": {
        "id": "N8Ay8eRwVL38"
      }
    },
    {
      "cell_type": "code",
      "source": [
        "!pip install diffusers==0.3.0 transformers ftfy\n",
        "!pip install -qq \"ipywidgets>=7,<8\""
      ],
      "metadata": {
        "id": "n9AmMcAGASDq"
      },
      "execution_count": null,
      "outputs": []
    },
    {
      "cell_type": "markdown",
      "source": [
        "You need to accept the model license before downloading or using the weights. In this post we'll use model version `v1-4`, so you'll need to  visit [its card](https://huggingface.co/CompVis/stable-diffusion-v1-4), read the license and tick the checkbox if you agree. \n",
        "\n",
        "You have to be a registered user in 🤗 Hugging Face Hub, and you'll also need to use an access token for the code to work. For more information on access tokens, please refer to [this section of the documentation](https://huggingface.co/docs/hub/security-tokens)."
      ],
      "metadata": {
        "id": "DQ11k9JVIXII"
      }
    },
    {
      "cell_type": "markdown",
      "source": [
        "# Token Login"
      ],
      "metadata": {
        "id": "mLPcwZdcVNt6"
      }
    },
    {
      "cell_type": "markdown",
      "source": [
        "Copy token from GDrive to temp root for auth"
      ],
      "metadata": {
        "id": "NfHig7XI02Ga"
      }
    },
    {
      "cell_type": "code",
      "source": [
        "!mkdir -p /root/.huggingface/"
      ],
      "metadata": {
        "id": "a3-6sMUyLvE_"
      },
      "execution_count": null,
      "outputs": []
    },
    {
      "cell_type": "code",
      "source": [
        "!cp /content/drive/MyDrive/AI/stable_diffusion/token /root/.huggingface/"
      ],
      "metadata": {
        "id": "NLjswaSS0TM6"
      },
      "execution_count": null,
      "outputs": []
    },
    {
      "cell_type": "code",
      "source": [
        "from huggingface_hub import notebook_login\n",
        "import inspect\n",
        "import warnings\n",
        "from typing import List, Optional, Union\n",
        "import torch\n",
        "from torch import autocast\n",
        "from tqdm.auto import tqdm\n",
        "import requests\n",
        "from io import BytesIO\n",
        "from PIL import Image\n",
        "from datetime import datetime\n",
        "from diffusers import StableDiffusionImg2ImgPipeline\n",
        "\n",
        "notebook_login()"
      ],
      "metadata": {
        "id": "AOe3MmjoAoSU"
      },
      "execution_count": null,
      "outputs": []
    },
    {
      "cell_type": "markdown",
      "source": [
        "## Image2Image pipeline."
      ],
      "metadata": {
        "id": "Uclfq60nIQvm"
      }
    },
    {
      "cell_type": "markdown",
      "source": [
        "Load the pipeline"
      ],
      "metadata": {
        "id": "YL179UtGKweb"
      }
    },
    {
      "cell_type": "code",
      "source": [
        "device = \"cuda\"\n",
        "model_path = \"CompVis/stable-diffusion-v1-4\"\n",
        "\n",
        "pipe = StableDiffusionImg2ImgPipeline.from_pretrained(\n",
        "    model_path,\n",
        "    revision=\"fp16\", \n",
        "    torch_dtype=torch.float16,\n",
        "    use_auth_token=True\n",
        ")\n",
        "pipe = pipe.to(device)"
      ],
      "metadata": {
        "id": "Fr2QIEzvCFH2"
      },
      "execution_count": null,
      "outputs": []
    },
    {
      "cell_type": "markdown",
      "source": [
        "Download an initial image and preprocess it so we can pass it to the pipeline."
      ],
      "metadata": {
        "id": "tFBvRqfCKzVQ"
      }
    },
    {
      "cell_type": "code",
      "source": [
        "# !unzip /content/drive/MyDrive/AI/IMG2IMG_stable_diffusion/init_image/batch_mode/extract_3.zip -d /content/drive/MyDrive/AI/IMG2IMG_stable_diffusion/init_image/batch_mode/"
      ],
      "metadata": {
        "id": "DDqaKxfDB5JW"
      },
      "execution_count": null,
      "outputs": []
    },
    {
      "cell_type": "code",
      "source": [
        "# !mkdir /content/drive/MyDrive/AI/IMG2IMG_stable_diffusion/$(date +%Y%m%d_%H%M%S) && mv /content/drive/MyDrive/AI/IMG2IMG_stable_diffusion/output/*.png /content/drive/MyDrive/AI/IMG2IMG_stable_diffusion/$(date +%Y%m%d_%H%M%S)"
      ],
      "metadata": {
        "id": "-onXBc6IOffU"
      },
      "execution_count": null,
      "outputs": []
    },
    {
      "cell_type": "code",
      "source": [
        "batch_init_path = \"/content/drive/MyDrive/AI/IMG2IMG_stable_diffusion/init_image/batch_mode/\""
      ],
      "metadata": {
        "id": "wRv-DeDOWgFa"
      },
      "execution_count": null,
      "outputs": []
    },
    {
      "cell_type": "code",
      "source": [
        "from glob import glob\n",
        "import os\n",
        "\n",
        "def produce_one_image_by_params(generator, seed, init_image_path, prompt, s_ratio, display_image):\n",
        "  \n",
        "  init_img = Image.open(init_image_path).convert(\"RGB\")\n",
        "  # init_img = init_img.resize((768, 384))\n",
        "\n",
        "\n",
        "  # init_img = init_img.resize((512, 512))\n",
        "\n",
        "  init_img = init_img.resize((1024, 512))\n",
        "\n",
        "  \n",
        "  filename_w_ext = os.path.basename(init_image_path)\n",
        "  filename, file_extension = os.path.splitext(filename_w_ext)\n",
        "\n",
        "  ### black and white option\n",
        "  # init_img = init_img.convert('L')\n",
        "  # init_img = init_img.convert('RGB')\n",
        "\n",
        "  \n",
        "\n",
        "  now = datetime.now() \n",
        "  time = now.strftime(\"%H%M%S\")\n",
        "\n",
        "  with autocast(\"cuda\"):\n",
        "      image = pipe(prompt=prompt, init_image=init_img, strength=s_ratio, guidance_scale=7.5, generator=generator).images[0]\n",
        "  image.save('/content/drive/MyDrive/AI/IMG2IMG_stable_diffusion/output/'+''+'-'+filename+'image.png')\n",
        "  if display_image:\n",
        "    display(image)"
      ],
      "metadata": {
        "id": "QihwI76FWar_"
      },
      "execution_count": null,
      "outputs": []
    },
    {
      "cell_type": "code",
      "source": [
        "# prompt = \"byzantine mosaic mosaic high quality impluvium mosaic intricate detailed 4k picture\""
      ],
      "metadata": {
        "id": "cxqvfp3Bmvfy"
      },
      "execution_count": null,
      "outputs": []
    },
    {
      "cell_type": "code",
      "source": [
        "# extension = 'jpg'\n",
        "# # extension = 'png'\n",
        "\n",
        "# input_file_paths = glob(batch_init_path+\"*/*.\"+extension, recursive = True)\n",
        "\n",
        "# # for seed in range(0, 100, 1):\n",
        "# seed = 7919\n",
        "# file_dir_list = sorted(input_file_paths)\n",
        "# # for file_path in tqdm(file_dir_list):\n",
        "#   # print(file_path)\n",
        "#   # produce_one_image_by_params(seed, file_path, prompt, 0.4)\n",
        "#   # produce_one_image_by_params(seed, file_path, prompt, 0.5)\n",
        "#   # produce_one_image_by_params(seed, file_path, prompt, 0.6)\n",
        "#   # produce_one_image_by_params(seed, file_path, prompt, 0.75)\n",
        "#   # produce_one_image_by_params(seed, file_path, prompt, 0.8)\n",
        "#   # break"
      ],
      "metadata": {
        "id": "nGPyaQsQWRZZ"
      },
      "execution_count": null,
      "outputs": []
    },
    {
      "cell_type": "code",
      "source": [
        "!mkdir /content/drive/MyDrive/AI/IMG2IMG_stable_diffusion/$(date +%Y%m%d_%H%M%S) && mv /content/drive/MyDrive/AI/IMG2IMG_stable_diffusion/output/*.png /content/drive/MyDrive/AI/IMG2IMG_stable_diffusion/$(date +%Y%m%d_%H%M%S)"
      ],
      "metadata": {
        "id": "xo5TsZxekuhs"
      },
      "execution_count": null,
      "outputs": []
    },
    {
      "cell_type": "code",
      "source": [
        "# file_dir_list"
      ],
      "metadata": {
        "id": "bH3qsHnyu9_h"
      },
      "execution_count": null,
      "outputs": []
    },
    {
      "cell_type": "code",
      "source": [
        "# the keys are folder names in the main project folder\n",
        "# the values are the prompts to be applied to many images\n",
        "\n",
        "\n",
        "# left_descriptor = 'oil painting mosaic mosaic byzantine mosaic mosaic in the style of greg rutkowski '\n",
        "\n",
        "left_descriptor = 'a painting of '\n",
        "right_descriptor = ' fish and other animals on a wall, a mosaic by Pietro Lorenzetti, pixiv, romanesque, academic art, lovecraftian, creative commons attribution'\n",
        "\n",
        "\n",
        "\n",
        "prompt_per_seq_dict = {\n",
        "\n",
        "\n",
        "    # --START RUN 1--\n",
        "\n",
        "    # 'seq1': left_descriptor + 'opening title of the hitchhiker guide to the galaxy' + right_descriptor,\n",
        "    'seq2': left_descriptor + 'dolphins jumping out of the water' + right_descriptor,\n",
        "    'seq3': left_descriptor + 'couple of dolphins jumping up and down in the water' + right_descriptor,\n",
        "    'seq4': left_descriptor + 'dolphin in the air over the water with a garden background and blue sky' + right_descriptor,\n",
        "    'seq5': left_descriptor + 'dolphin in the air with tips of the trees and blue sky' + right_descriptor,\n",
        "    'seq6': left_descriptor + 'two dolphins standing on their tail over the water big water splashes' + right_descriptor,\n",
        "    'seq7': left_descriptor + 'dolphin head out of water smile' + right_descriptor,\n",
        "    'seq8': left_descriptor + 'group of dolphins swimming in the water from left to right' + right_descriptor,\n",
        "    \n",
        "    'seq9': left_descriptor + 'two dolphins and lots of water splashes' + right_descriptor,\n",
        "    'seq10': left_descriptor + 'two dolphins swimming upright at the water surface' + right_descriptor,\n",
        "    'seq11': left_descriptor + 'a singular dolphin swimming underwater with water bubbles' + right_descriptor,\n",
        "    'seq12': left_descriptor + 'a dolphin jumping out of the water with water drops, left to right jump,' + right_descriptor,\n",
        "    'seq13': left_descriptor + 'men and dolphins standing near water' + right_descriptor,\n",
        "    'seq14': left_descriptor + 'four dolphins swimming in the same direction' + right_descriptor,\n",
        "\n",
        "    # --END RUN 1--\n",
        "\n",
        "    # --START RUN 2--\n",
        "\n",
        "    'seq15': left_descriptor + 'dolphin sticking head out of water' + right_descriptor,\n",
        "    'seq16': left_descriptor + 'two dolphins swimming in the same direction' + right_descriptor,\n",
        "    'seq17': left_descriptor + 'dolphin swimming from left to right' + right_descriptor,\n",
        "    'seq18': left_descriptor + 'three dolphins mouth open head out of the water' + right_descriptor,\n",
        "    'seq19': left_descriptor + 'four dolphins swimming in the same direction' + right_descriptor,\n",
        "    'seq20': left_descriptor + 'dolphin sticking head out of water' + right_descriptor,\n",
        "    'seq21': left_descriptor + 'underwater multiple dolphins' + right_descriptor,\n",
        "    'seq22': left_descriptor + 'night full moon flying dolphin water drops' + right_descriptor,\n",
        "    'seq23': left_descriptor + 'night full moon dolphin backflip into the air water drops' + right_descriptor,\n",
        "    'seq24': left_descriptor + 'night full moon multiple dolphins flying in the air water drops' + right_descriptor,\n",
        "    'seq25': left_descriptor + 'full moon reflexion on the water surface in a fine line on the deep blue water' + right_descriptor,\n",
        "    'seq26': left_descriptor + 'multiple dolphins flying out of the sea with a full moon background' + right_descriptor,\n",
        "    'seq27': left_descriptor + 'full moon at night with flying dolphins passing in front' + right_descriptor,\n",
        "    'seq28': left_descriptor + 'full moon in the night sky' + right_descriptor,\n",
        "\n",
        "    # --END RUN 2--\n",
        "}\n"
      ],
      "metadata": {
        "id": "f-J7is2ByK29"
      },
      "execution_count": null,
      "outputs": []
    },
    {
      "cell_type": "code",
      "source": [
        "project_name = \"sequenced_dolphin\"\n",
        "batch_init_path + project_name\n",
        "input_file_paths = glob(batch_init_path+\"/*/*\", recursive = True)\n",
        "\n",
        "extension = 'jpg'\n",
        "seed = 7919\n",
        "\n",
        "for folder_name in tqdm(prompt_per_seq_dict):\n",
        "\n",
        "  curr_prompt = prompt_per_seq_dict[folder_name]\n",
        "  curr_image_list = glob(batch_init_path + project_name + \"/\"+folder_name+\"/*\", recursive = True)\n",
        "\n",
        "  for curr_image in tqdm(sorted(curr_image_list)):\n",
        "    generator = torch.Generator(device=device).manual_seed(seed)\n",
        "    pipe.safety_checker = (lambda images, clip_input: (images, False))\n",
        "\n",
        "    produce_one_image_by_params(generator, seed, curr_image, curr_prompt, 0.6, True)\n",
        "    break"
      ],
      "metadata": {
        "id": "dzmNkyRNywzN"
      },
      "execution_count": null,
      "outputs": []
    },
    {
      "cell_type": "markdown",
      "source": [
        "# simple image resize (bicubic)"
      ],
      "metadata": {
        "id": "JiTBnknuHgvw"
      }
    },
    {
      "cell_type": "code",
      "source": [
        "=="
      ],
      "metadata": {
        "id": "rN3fdOYPhwRo"
      },
      "execution_count": null,
      "outputs": []
    },
    {
      "cell_type": "code",
      "source": [
        "simple_resize_path = \"/content/drive/MyDrive/AI/IMG2IMG_stable_diffusion/simple_resize/\""
      ],
      "metadata": {
        "id": "hKF3aRcaIjTo"
      },
      "execution_count": null,
      "outputs": []
    },
    {
      "cell_type": "code",
      "source": [
        "!mkdir $simple_resize_path"
      ],
      "metadata": {
        "id": "kRtbY8m0RtIa"
      },
      "execution_count": null,
      "outputs": []
    },
    {
      "cell_type": "code",
      "source": [
        "!cp -r /content/drive/MyDrive/AI/IMG2IMG_stable_diffusion/output/* $simple_resize_path"
      ],
      "metadata": {
        "id": "BrHVQ2weHfVx"
      },
      "execution_count": null,
      "outputs": []
    },
    {
      "cell_type": "code",
      "source": [
        "from PIL import Image\n",
        "def simple_upscaling(init_image_path):\n",
        "  init_img = Image.open(init_image_path).convert(\"RGB\")\n",
        "  \n",
        "  ratio = 800/512 #upscaling ratio here\n",
        "\n",
        "  filename_w_ext = os.path.basename(init_image_path)\n",
        "  filename, file_extension = os.path.splitext(filename_w_ext)\n",
        "\n",
        "  init_img = init_img.resize((int(1024*ratio), int(512*ratio)))\n",
        "  init_img.save(simple_resize_path+''+'-'+filename+'.png')\n"
      ],
      "metadata": {
        "id": "z4hoYutfH80r"
      },
      "execution_count": null,
      "outputs": []
    },
    {
      "cell_type": "code",
      "source": [
        "input_file_paths = glob(simple_resize_path+\"*\", recursive = True)\n",
        "# input_file_paths"
      ],
      "metadata": {
        "id": "W8fEVV6PJMkO"
      },
      "execution_count": null,
      "outputs": []
    },
    {
      "cell_type": "code",
      "source": [
        "for curr_path in input_file_paths:\n",
        "  simple_upscaling(curr_path)"
      ],
      "metadata": {
        "id": "naYerRvGJUxO"
      },
      "execution_count": null,
      "outputs": []
    }
  ]
}